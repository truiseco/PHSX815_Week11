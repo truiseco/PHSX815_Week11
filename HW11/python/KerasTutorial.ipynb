{
 "cells": [
  {
   "cell_type": "markdown",
   "metadata": {},
   "source": [
    "## PHSX 815 Neural Network with Keras tutorial\n",
    "### How can we predict the quality of wine based on its physical characteristics?\n",
    "We will download the `wine_quality` dataset from Tensorflow (the Keras backend) to train a neural network to predict wine quality."
   ]
  },
  {
   "cell_type": "code",
   "execution_count": 8,
   "metadata": {},
   "outputs": [],
   "source": [
    "import matplotlib.pyplot as plt\n",
    "import seaborn as sns\n",
    "import numpy as np\n",
    "from sklearn.preprocessing import OneHotEncoder, MinMaxScaler\n",
    "from sklearn.metrics import confusion_matrix\n",
    "from sklearn.model_selection import train_test_split\n",
    "import pandas as pd\n",
    "\n",
    "import tensorflow as tf\n",
    "from tensorflow.keras.models import Sequential, Model\n",
    "from tensorflow.keras.layers import *\n",
    "# from tensorflow.keras.optimizers import SGD, Adam\n",
    "# from tensorflow.keras.activations import relu\n",
    "import tensorflow_datasets as tfds\n",
    "from IPython.core.interactiveshell import InteractiveShell\n",
    "InteractiveShell.ast_node_interactivity = \"all\""
   ]
  },
  {
   "cell_type": "code",
   "execution_count": 9,
   "metadata": {},
   "outputs": [
    {
     "output_type": "stream",
     "name": "stdout",
     "text": [
      "Features and label for first entry\n{'alcohol': 9.0, 'chlorides': 0.054, 'citric acid': 0.34, 'density': 1.0008, 'fixed acidity': 7.6, 'free sulfur dioxide': 44.0, 'pH': 3.22, 'residual sugar': 18.35, 'sulphates': 0.550000011920929, 'total sulfur dioxide': 197.0, 'volatile acidity': 0.32} 5\n"
     ]
    },
    {
     "output_type": "error",
     "ename": "TypeError",
     "evalue": "object.__init__() takes exactly one argument (the instance to initialize)",
     "traceback": [
      "\u001b[1;31m---------------------------------------------------------------------------\u001b[0m",
      "\u001b[1;31mTypeError\u001b[0m                                 Traceback (most recent call last)",
      "\u001b[1;32m<ipython-input-9-ba795914871c>\u001b[0m in \u001b[0;36m<module>\u001b[1;34m\u001b[0m\n\u001b[0;32m     16\u001b[0m \u001b[1;33m\u001b[0m\u001b[0m\n\u001b[0;32m     17\u001b[0m \u001b[1;31m#transform dictionary to dataframe - combining red and white wine\u001b[0m\u001b[1;33m\u001b[0m\u001b[1;33m\u001b[0m\u001b[1;33m\u001b[0m\u001b[0m\n\u001b[1;32m---> 18\u001b[1;33m \u001b[0mdf_white\u001b[0m \u001b[1;33m=\u001b[0m \u001b[0mtfds\u001b[0m\u001b[1;33m.\u001b[0m\u001b[0mas_dataframe\u001b[0m\u001b[1;33m(\u001b[0m\u001b[0mdata_train_white\u001b[0m\u001b[1;33m)\u001b[0m\u001b[1;33m\u001b[0m\u001b[1;33m\u001b[0m\u001b[0m\n\u001b[0m\u001b[0;32m     19\u001b[0m \u001b[0mdf_red\u001b[0m \u001b[1;33m=\u001b[0m \u001b[0mtfds\u001b[0m\u001b[1;33m.\u001b[0m\u001b[0mas_dataframe\u001b[0m\u001b[1;33m(\u001b[0m\u001b[0mdata_train_red\u001b[0m\u001b[1;33m)\u001b[0m\u001b[1;33m\u001b[0m\u001b[1;33m\u001b[0m\u001b[0m\n\u001b[0;32m     20\u001b[0m \u001b[0mdf\u001b[0m \u001b[1;33m=\u001b[0m \u001b[0mpd\u001b[0m\u001b[1;33m.\u001b[0m\u001b[0mconcat\u001b[0m\u001b[1;33m(\u001b[0m\u001b[1;33m[\u001b[0m\u001b[0mdf_white\u001b[0m\u001b[1;33m,\u001b[0m\u001b[0mdf_red\u001b[0m\u001b[1;33m]\u001b[0m\u001b[1;33m)\u001b[0m\u001b[1;33m\u001b[0m\u001b[1;33m\u001b[0m\u001b[0m\n",
      "\u001b[1;32mC:\\Program Files\\Python39\\lib\\site-packages\\tensorflow_datasets\\core\\as_dataframe.py\u001b[0m in \u001b[0;36mas_dataframe\u001b[1;34m(ds, ds_info)\u001b[0m\n\u001b[0;32m    216\u001b[0m   \u001b[0mcolumns\u001b[0m \u001b[1;33m=\u001b[0m \u001b[0m_make_columns\u001b[0m\u001b[1;33m(\u001b[0m\u001b[0mds\u001b[0m\u001b[1;33m.\u001b[0m\u001b[0melement_spec\u001b[0m\u001b[1;33m,\u001b[0m \u001b[0mds_info\u001b[0m\u001b[1;33m=\u001b[0m\u001b[0mds_info\u001b[0m\u001b[1;33m)\u001b[0m\u001b[1;33m\u001b[0m\u001b[1;33m\u001b[0m\u001b[0m\n\u001b[0;32m    217\u001b[0m   \u001b[0mrows\u001b[0m \u001b[1;33m=\u001b[0m \u001b[1;33m[\u001b[0m\u001b[0m_make_row_dict\u001b[0m\u001b[1;33m(\u001b[0m\u001b[0mex\u001b[0m\u001b[1;33m,\u001b[0m \u001b[0mcolumns\u001b[0m\u001b[1;33m)\u001b[0m \u001b[1;32mfor\u001b[0m \u001b[0mex\u001b[0m \u001b[1;32min\u001b[0m \u001b[0mdataset_utils\u001b[0m\u001b[1;33m.\u001b[0m\u001b[0mas_numpy\u001b[0m\u001b[1;33m(\u001b[0m\u001b[0mds\u001b[0m\u001b[1;33m)\u001b[0m\u001b[1;33m]\u001b[0m\u001b[1;33m\u001b[0m\u001b[1;33m\u001b[0m\u001b[0m\n\u001b[1;32m--> 218\u001b[1;33m   \u001b[0mdf\u001b[0m \u001b[1;33m=\u001b[0m \u001b[0mStyledDataFrame\u001b[0m\u001b[1;33m(\u001b[0m\u001b[0mrows\u001b[0m\u001b[1;33m)\u001b[0m\u001b[1;33m\u001b[0m\u001b[1;33m\u001b[0m\u001b[0m\n\u001b[0m\u001b[0;32m    219\u001b[0m   \u001b[0mdf\u001b[0m\u001b[1;33m.\u001b[0m\u001b[0mcurrent_style\u001b[0m\u001b[1;33m.\u001b[0m\u001b[0mformat\u001b[0m\u001b[1;33m(\u001b[0m\u001b[1;33m{\u001b[0m\u001b[0mc\u001b[0m\u001b[1;33m.\u001b[0m\u001b[0mname\u001b[0m\u001b[1;33m:\u001b[0m \u001b[0mc\u001b[0m\u001b[1;33m.\u001b[0m\u001b[0mformat_fn\u001b[0m \u001b[1;32mfor\u001b[0m \u001b[0mc\u001b[0m \u001b[1;32min\u001b[0m \u001b[0mcolumns\u001b[0m \u001b[1;32mif\u001b[0m \u001b[0mc\u001b[0m\u001b[1;33m.\u001b[0m\u001b[0mformat_fn\u001b[0m\u001b[1;33m}\u001b[0m\u001b[1;33m)\u001b[0m\u001b[1;33m\u001b[0m\u001b[1;33m\u001b[0m\u001b[0m\n\u001b[0;32m    220\u001b[0m   \u001b[1;32mreturn\u001b[0m \u001b[0mdf\u001b[0m\u001b[1;33m\u001b[0m\u001b[1;33m\u001b[0m\u001b[0m\n",
      "\u001b[1;32mC:\\Program Files\\Python39\\lib\\site-packages\\tensorflow_datasets\\core\\as_dataframe.py\u001b[0m in \u001b[0;36m__init__\u001b[1;34m(self, *args, **kwargs)\u001b[0m\n\u001b[0;32m    142\u001b[0m \u001b[1;33m\u001b[0m\u001b[0m\n\u001b[0;32m    143\u001b[0m   \u001b[1;32mdef\u001b[0m \u001b[0m__init__\u001b[0m\u001b[1;33m(\u001b[0m\u001b[0mself\u001b[0m\u001b[1;33m,\u001b[0m \u001b[1;33m*\u001b[0m\u001b[0margs\u001b[0m\u001b[1;33m,\u001b[0m \u001b[1;33m**\u001b[0m\u001b[0mkwargs\u001b[0m\u001b[1;33m)\u001b[0m\u001b[1;33m:\u001b[0m\u001b[1;33m\u001b[0m\u001b[1;33m\u001b[0m\u001b[0m\n\u001b[1;32m--> 144\u001b[1;33m     \u001b[0msuper\u001b[0m\u001b[1;33m(\u001b[0m\u001b[1;33m)\u001b[0m\u001b[1;33m.\u001b[0m\u001b[0m__init__\u001b[0m\u001b[1;33m(\u001b[0m\u001b[1;33m*\u001b[0m\u001b[0margs\u001b[0m\u001b[1;33m,\u001b[0m \u001b[1;33m**\u001b[0m\u001b[0mkwargs\u001b[0m\u001b[1;33m)\u001b[0m\u001b[1;33m\u001b[0m\u001b[1;33m\u001b[0m\u001b[0m\n\u001b[0m\u001b[0;32m    145\u001b[0m     \u001b[1;31m# Use name-mangling for forward-compatibility in case pandas\u001b[0m\u001b[1;33m\u001b[0m\u001b[1;33m\u001b[0m\u001b[1;33m\u001b[0m\u001b[0m\n\u001b[0;32m    146\u001b[0m     \u001b[1;31m# adds a `_styler` attribute in the future.\u001b[0m\u001b[1;33m\u001b[0m\u001b[1;33m\u001b[0m\u001b[1;33m\u001b[0m\u001b[0m\n",
      "\u001b[1;31mTypeError\u001b[0m: object.__init__() takes exactly one argument (the instance to initialize)"
     ]
    }
   ],
   "source": [
    "#if you want to load the data as tuples, you can use the as_supervised=True argument\n",
    "data_train = tfds.load('wine_quality',split='train',as_supervised=True)\n",
    "\n",
    "#looking at just one sample of our data\n",
    "pt = data_train.take(1)\n",
    "# type(pt)\n",
    "\n",
    "#can convert this TakeDataset object to a numpy array (can do this for the whole dataset too)\n",
    "print(\"Features and label for first entry\")\n",
    "for features, label in tfds.as_numpy(pt):\n",
    "    print(features,label)\n",
    "\n",
    "#we want to load dataset as a a dictionary of tf.Tensors (can't transform tuples to dataframe)\n",
    "data_train_white = tfds.load('wine_quality/white',split='train')\n",
    "data_train_red = tfds.load('wine_quality/red',split='train')\n",
    "\n",
    "#transform dictionary to dataframe - combining red and white wine\n",
    "df_white = tfds.as_dataframe(data_train_white)\n",
    "df_red = tfds.as_dataframe(data_train_red)\n",
    "df = pd.concat([df_white,df_red])\n",
    "\n",
    "print('number of samples',len(df['quality']))\n",
    "\n",
    "#what are our output possibilities?\n",
    "print('possible wine quality ratings',df['quality'].unique())"
   ]
  },
  {
   "cell_type": "code",
   "execution_count": 3,
   "metadata": {},
   "outputs": [
    {
     "name": "stdout",
     "output_type": "stream",
     "text": [
      "all good!\n"
     ]
    }
   ],
   "source": [
    "#do we have any missing data (empty or NaN entries in features or labels)?\n",
    "dataNans = df.isnull().values.any()\n",
    "if not dataNans:\n",
    "    print(\"all good!\")"
   ]
  },
  {
   "cell_type": "markdown",
   "metadata": {},
   "source": [
    "### Preprocessing our labels\n",
    "Although this may seem like a regression task for a neural network because we are predicting a number (wine quality), the labels are actually *categorical* not *continuous*. If you look at the labels, you see that they are integer values between 5 and 9. Because this is a classification problem, we need to one-hot encode our labels. This means taking our possible outcomes and turning them into arrays of a 1 and 0's. The index of the 1 in the array will tell us which class is which. So, for example, 5 becomes [1,0,0,0,0], 6 becomes [0,1,0,0,0] and so on. We can use a function from sklearn to do this automatically."
   ]
  },
  {
   "cell_type": "markdown",
   "metadata": {},
   "source": [
    "this dataset unfortunately only gives us training data - but we can set aside a portion for testing our network on. in practice, you don't want to test your network on data it has already seen (is it really a prediction if you use your model on data it was fitted to?) but, for educational purposes, we can ~randomly sample our data and call it ~iid.\n",
    "Here, I combine the red and white wine datasets for increased statistics. What happens if you train networks on these datasets separately? Or what happens if you use one dataset to train and one to test?"
   ]
  },
  {
   "cell_type": "code",
   "execution_count": 4,
   "metadata": {},
   "outputs": [
    {
     "data": {
      "text/plain": [
       "array([5, 6, 4, 8, 7, 3, 9])"
      ]
     },
     "execution_count": 4,
     "metadata": {},
     "output_type": "execute_result"
    },
    {
     "data": {
      "text/html": [
       "<div>\n",
       "<style scoped>\n",
       "    .dataframe tbody tr th:only-of-type {\n",
       "        vertical-align: middle;\n",
       "    }\n",
       "\n",
       "    .dataframe tbody tr th {\n",
       "        vertical-align: top;\n",
       "    }\n",
       "\n",
       "    .dataframe thead th {\n",
       "        text-align: right;\n",
       "    }\n",
       "</style>\n",
       "<table border=\"1\" class=\"dataframe\">\n",
       "  <thead>\n",
       "    <tr style=\"text-align: right;\">\n",
       "      <th></th>\n",
       "      <th>features/alcohol</th>\n",
       "      <th>features/chlorides</th>\n",
       "      <th>features/citric acid</th>\n",
       "      <th>features/density</th>\n",
       "      <th>features/fixed acidity</th>\n",
       "      <th>features/free sulfur dioxide</th>\n",
       "      <th>features/pH</th>\n",
       "      <th>features/residual sugar</th>\n",
       "      <th>features/sulphates</th>\n",
       "      <th>features/total sulfur dioxide</th>\n",
       "      <th>features/volatile acidity</th>\n",
       "    </tr>\n",
       "  </thead>\n",
       "  <tbody>\n",
       "    <tr>\n",
       "      <th>4069</th>\n",
       "      <td>8.7</td>\n",
       "      <td>0.050</td>\n",
       "      <td>0.27</td>\n",
       "      <td>0.99840</td>\n",
       "      <td>7.4</td>\n",
       "      <td>25.0</td>\n",
       "      <td>2.90</td>\n",
       "      <td>15.5</td>\n",
       "      <td>0.43</td>\n",
       "      <td>135.0</td>\n",
       "      <td>0.16</td>\n",
       "    </tr>\n",
       "    <tr>\n",
       "      <th>16</th>\n",
       "      <td>10.8</td>\n",
       "      <td>0.026</td>\n",
       "      <td>0.56</td>\n",
       "      <td>0.99060</td>\n",
       "      <td>5.0</td>\n",
       "      <td>24.0</td>\n",
       "      <td>3.48</td>\n",
       "      <td>1.5</td>\n",
       "      <td>0.39</td>\n",
       "      <td>115.0</td>\n",
       "      <td>0.17</td>\n",
       "    </tr>\n",
       "    <tr>\n",
       "      <th>3839</th>\n",
       "      <td>10.1</td>\n",
       "      <td>0.076</td>\n",
       "      <td>0.27</td>\n",
       "      <td>0.99344</td>\n",
       "      <td>7.0</td>\n",
       "      <td>24.0</td>\n",
       "      <td>3.10</td>\n",
       "      <td>1.5</td>\n",
       "      <td>0.52</td>\n",
       "      <td>145.0</td>\n",
       "      <td>0.30</td>\n",
       "    </tr>\n",
       "    <tr>\n",
       "      <th>4059</th>\n",
       "      <td>12.3</td>\n",
       "      <td>0.042</td>\n",
       "      <td>0.26</td>\n",
       "      <td>0.99067</td>\n",
       "      <td>6.5</td>\n",
       "      <td>33.0</td>\n",
       "      <td>3.06</td>\n",
       "      <td>5.2</td>\n",
       "      <td>0.50</td>\n",
       "      <td>112.0</td>\n",
       "      <td>0.38</td>\n",
       "    </tr>\n",
       "    <tr>\n",
       "      <th>3613</th>\n",
       "      <td>8.8</td>\n",
       "      <td>0.046</td>\n",
       "      <td>0.36</td>\n",
       "      <td>1.00000</td>\n",
       "      <td>6.8</td>\n",
       "      <td>32.0</td>\n",
       "      <td>3.27</td>\n",
       "      <td>18.1</td>\n",
       "      <td>0.48</td>\n",
       "      <td>133.0</td>\n",
       "      <td>0.21</td>\n",
       "    </tr>\n",
       "  </tbody>\n",
       "</table>\n",
       "</div>"
      ],
      "text/plain": [
       "      features/alcohol  features/chlorides  features/citric acid  \\\n",
       "4069               8.7               0.050                  0.27   \n",
       "16                10.8               0.026                  0.56   \n",
       "3839              10.1               0.076                  0.27   \n",
       "4059              12.3               0.042                  0.26   \n",
       "3613               8.8               0.046                  0.36   \n",
       "\n",
       "      features/density  features/fixed acidity  features/free sulfur dioxide  \\\n",
       "4069           0.99840                     7.4                          25.0   \n",
       "16             0.99060                     5.0                          24.0   \n",
       "3839           0.99344                     7.0                          24.0   \n",
       "4059           0.99067                     6.5                          33.0   \n",
       "3613           1.00000                     6.8                          32.0   \n",
       "\n",
       "      features/pH  features/residual sugar  features/sulphates  \\\n",
       "4069         2.90                     15.5                0.43   \n",
       "16           3.48                      1.5                0.39   \n",
       "3839         3.10                      1.5                0.52   \n",
       "4059         3.06                      5.2                0.50   \n",
       "3613         3.27                     18.1                0.48   \n",
       "\n",
       "      features/total sulfur dioxide  features/volatile acidity  \n",
       "4069                          135.0                       0.16  \n",
       "16                            115.0                       0.17  \n",
       "3839                          145.0                       0.30  \n",
       "4059                          112.0                       0.38  \n",
       "3613                          133.0                       0.21  "
      ]
     },
     "execution_count": 4,
     "metadata": {},
     "output_type": "execute_result"
    }
   ],
   "source": [
    "#it's helpful to separate our input features from our target features (quality) \n",
    "#so we can later only transform our inputs without changing our labels\n",
    "labels = df['quality']\n",
    "df = df.drop(labels='quality',axis=1)\n",
    "labels.unique()\n",
    "\n",
    "enc = OneHotEncoder(sparse=False)\n",
    "labels = enc.fit_transform(labels.to_numpy().reshape(-1,1))\n",
    "\n",
    "#make our test data\n",
    "df, df_test, labels, df_testLabels = train_test_split(df,labels,test_size=0.1)\n",
    "\n",
    "#look at the first 5 entries\n",
    "df.head()"
   ]
  },
  {
   "cell_type": "markdown",
   "metadata": {},
   "source": [
    "### some questions to consider:\n",
    "- how was this data obtained? what goes into engineering the features? what does \"quality\" mean?\n",
    "- do you have to normalize your features?\n",
    "- are there any correlations among features? is this expected? how can we encode this information to the NN or decouple these features?\n",
    "- what does the data look like?\n",
    "- do we have any missing or NaN entries?"
   ]
  },
  {
   "cell_type": "markdown",
   "metadata": {},
   "source": [
    "let's examine the data to see what kinds of transformations we need to make for preprocessing"
   ]
  },
  {
   "cell_type": "code",
   "execution_count": 5,
   "metadata": {},
   "outputs": [
    {
     "data": {
      "text/html": [
       "<div>\n",
       "<style scoped>\n",
       "    .dataframe tbody tr th:only-of-type {\n",
       "        vertical-align: middle;\n",
       "    }\n",
       "\n",
       "    .dataframe tbody tr th {\n",
       "        vertical-align: top;\n",
       "    }\n",
       "\n",
       "    .dataframe thead th {\n",
       "        text-align: right;\n",
       "    }\n",
       "</style>\n",
       "<table border=\"1\" class=\"dataframe\">\n",
       "  <thead>\n",
       "    <tr style=\"text-align: right;\">\n",
       "      <th></th>\n",
       "      <th>features/alcohol</th>\n",
       "      <th>features/chlorides</th>\n",
       "      <th>features/citric acid</th>\n",
       "      <th>features/density</th>\n",
       "      <th>features/fixed acidity</th>\n",
       "      <th>features/free sulfur dioxide</th>\n",
       "      <th>features/pH</th>\n",
       "      <th>features/residual sugar</th>\n",
       "      <th>features/sulphates</th>\n",
       "      <th>features/total sulfur dioxide</th>\n",
       "      <th>features/volatile acidity</th>\n",
       "    </tr>\n",
       "  </thead>\n",
       "  <tbody>\n",
       "    <tr>\n",
       "      <th>count</th>\n",
       "      <td>5847.000000</td>\n",
       "      <td>5847.000000</td>\n",
       "      <td>5847.000000</td>\n",
       "      <td>5847.000000</td>\n",
       "      <td>5847.000000</td>\n",
       "      <td>5847.000000</td>\n",
       "      <td>5847.000000</td>\n",
       "      <td>5847.000000</td>\n",
       "      <td>5847.000000</td>\n",
       "      <td>5847.000000</td>\n",
       "      <td>5847.000000</td>\n",
       "    </tr>\n",
       "    <tr>\n",
       "      <th>mean</th>\n",
       "      <td>10.496382</td>\n",
       "      <td>0.055992</td>\n",
       "      <td>0.318519</td>\n",
       "      <td>0.994684</td>\n",
       "      <td>7.210185</td>\n",
       "      <td>30.592954</td>\n",
       "      <td>3.217339</td>\n",
       "      <td>5.453275</td>\n",
       "      <td>0.531599</td>\n",
       "      <td>115.862494</td>\n",
       "      <td>0.339868</td>\n",
       "    </tr>\n",
       "    <tr>\n",
       "      <th>std</th>\n",
       "      <td>1.192027</td>\n",
       "      <td>0.035422</td>\n",
       "      <td>0.144470</td>\n",
       "      <td>0.003007</td>\n",
       "      <td>1.288970</td>\n",
       "      <td>17.813128</td>\n",
       "      <td>0.160379</td>\n",
       "      <td>4.765171</td>\n",
       "      <td>0.148349</td>\n",
       "      <td>56.396158</td>\n",
       "      <td>0.165075</td>\n",
       "    </tr>\n",
       "    <tr>\n",
       "      <th>min</th>\n",
       "      <td>8.000000</td>\n",
       "      <td>0.009000</td>\n",
       "      <td>0.000000</td>\n",
       "      <td>0.987130</td>\n",
       "      <td>3.800000</td>\n",
       "      <td>1.000000</td>\n",
       "      <td>2.720000</td>\n",
       "      <td>0.600000</td>\n",
       "      <td>0.220000</td>\n",
       "      <td>6.000000</td>\n",
       "      <td>0.080000</td>\n",
       "    </tr>\n",
       "    <tr>\n",
       "      <th>25%</th>\n",
       "      <td>9.500000</td>\n",
       "      <td>0.038000</td>\n",
       "      <td>0.250000</td>\n",
       "      <td>0.992300</td>\n",
       "      <td>6.400000</td>\n",
       "      <td>17.000000</td>\n",
       "      <td>3.110000</td>\n",
       "      <td>1.800000</td>\n",
       "      <td>0.430000</td>\n",
       "      <td>78.000000</td>\n",
       "      <td>0.230000</td>\n",
       "    </tr>\n",
       "    <tr>\n",
       "      <th>50%</th>\n",
       "      <td>10.300000</td>\n",
       "      <td>0.047000</td>\n",
       "      <td>0.310000</td>\n",
       "      <td>0.994860</td>\n",
       "      <td>7.000000</td>\n",
       "      <td>29.000000</td>\n",
       "      <td>3.200000</td>\n",
       "      <td>3.000000</td>\n",
       "      <td>0.510000</td>\n",
       "      <td>118.000000</td>\n",
       "      <td>0.290000</td>\n",
       "    </tr>\n",
       "    <tr>\n",
       "      <th>75%</th>\n",
       "      <td>11.300000</td>\n",
       "      <td>0.064000</td>\n",
       "      <td>0.390000</td>\n",
       "      <td>0.996950</td>\n",
       "      <td>7.700000</td>\n",
       "      <td>41.000000</td>\n",
       "      <td>3.320000</td>\n",
       "      <td>8.100000</td>\n",
       "      <td>0.600000</td>\n",
       "      <td>156.000000</td>\n",
       "      <td>0.400000</td>\n",
       "    </tr>\n",
       "    <tr>\n",
       "      <th>max</th>\n",
       "      <td>14.900000</td>\n",
       "      <td>0.611000</td>\n",
       "      <td>1.660000</td>\n",
       "      <td>1.038980</td>\n",
       "      <td>15.900000</td>\n",
       "      <td>289.000000</td>\n",
       "      <td>4.010000</td>\n",
       "      <td>65.800003</td>\n",
       "      <td>2.000000</td>\n",
       "      <td>440.000000</td>\n",
       "      <td>1.580000</td>\n",
       "    </tr>\n",
       "  </tbody>\n",
       "</table>\n",
       "</div>"
      ],
      "text/plain": [
       "       features/alcohol  features/chlorides  features/citric acid  \\\n",
       "count       5847.000000         5847.000000           5847.000000   \n",
       "mean          10.496382            0.055992              0.318519   \n",
       "std            1.192027            0.035422              0.144470   \n",
       "min            8.000000            0.009000              0.000000   \n",
       "25%            9.500000            0.038000              0.250000   \n",
       "50%           10.300000            0.047000              0.310000   \n",
       "75%           11.300000            0.064000              0.390000   \n",
       "max           14.900000            0.611000              1.660000   \n",
       "\n",
       "       features/density  features/fixed acidity  features/free sulfur dioxide  \\\n",
       "count       5847.000000             5847.000000                   5847.000000   \n",
       "mean           0.994684                7.210185                     30.592954   \n",
       "std            0.003007                1.288970                     17.813128   \n",
       "min            0.987130                3.800000                      1.000000   \n",
       "25%            0.992300                6.400000                     17.000000   \n",
       "50%            0.994860                7.000000                     29.000000   \n",
       "75%            0.996950                7.700000                     41.000000   \n",
       "max            1.038980               15.900000                    289.000000   \n",
       "\n",
       "       features/pH  features/residual sugar  features/sulphates  \\\n",
       "count  5847.000000              5847.000000         5847.000000   \n",
       "mean      3.217339                 5.453275            0.531599   \n",
       "std       0.160379                 4.765171            0.148349   \n",
       "min       2.720000                 0.600000            0.220000   \n",
       "25%       3.110000                 1.800000            0.430000   \n",
       "50%       3.200000                 3.000000            0.510000   \n",
       "75%       3.320000                 8.100000            0.600000   \n",
       "max       4.010000                65.800003            2.000000   \n",
       "\n",
       "       features/total sulfur dioxide  features/volatile acidity  \n",
       "count                    5847.000000                5847.000000  \n",
       "mean                      115.862494                   0.339868  \n",
       "std                        56.396158                   0.165075  \n",
       "min                         6.000000                   0.080000  \n",
       "25%                        78.000000                   0.230000  \n",
       "50%                       118.000000                   0.290000  \n",
       "75%                       156.000000                   0.400000  \n",
       "max                       440.000000                   1.580000  "
      ]
     },
     "execution_count": 5,
     "metadata": {},
     "output_type": "execute_result"
    }
   ],
   "source": [
    "df.describe()"
   ]
  },
  {
   "cell_type": "markdown",
   "metadata": {},
   "source": [
    "### Visualizing data\n",
    "If you want a cool and easy way to visualize not only the features, but also the correlations between features, you can use the following seaborn function, which will display the individual features on the diagonal of the subplots and the correlations between features\n",
    "\n",
    "`pl = sns.pairplot(df[df.columns], diag_kind='kde')`"
   ]
  },
  {
   "cell_type": "code",
   "execution_count": 6,
   "metadata": {},
   "outputs": [
    {
     "data": {
      "image/png": "[encoded data removed]",
      "text/plain": [
       "<Figure size 1080x1440 with 12 Axes>"
      ]
     },
     "metadata": {
      "needs_background": "light"
     },
     "output_type": "display_data"
    }
   ],
   "source": [
    "#visualizing our input features\n",
    "nFeatures = len(df.columns)\n",
    "nCols = 3\n",
    "nRows = int(np.ceil(nFeatures/nCols))\n",
    "cols = df.columns\n",
    "fig, axs = plt.subplots(nRows,nCols,figsize=(15,20))\n",
    "# for i, ax in enumerate(axs)\n",
    "col = 0\n",
    "for i in range(nRows):\n",
    "    for j in range(nCols):\n",
    "        if col >= nFeatures:\n",
    "            break\n",
    "        h = axs[i,j].hist(df[cols[col]])\n",
    "        h = axs[i,j].set_title(cols[col])\n",
    "        col += 1"
   ]
  },
  {
   "cell_type": "markdown",
   "metadata": {},
   "source": [
    "It looks like there are two types of sulfur dioxide features: total sulfur dioxide and free sulfur dioxide. I'm not entirely sure what sulfur dioxide is (I am neither a chemist nor a sommelier) so I'm curious if there is a correlation between these features. "
   ]
  },
  {
   "cell_type": "code",
   "execution_count": 7,
   "metadata": {},
   "outputs": [
    {
     "data": {
      "text/plain": [
       "<matplotlib.collections.PathCollection at 0x148c2edd0>"
      ]
     },
     "execution_count": 7,
     "metadata": {},
     "output_type": "execute_result"
    },
    {
     "data": {
      "image/png": "[encoded data removed]",
      "text/plain": [
       "<Figure size 432x288 with 1 Axes>"
      ]
     },
     "metadata": {
      "needs_background": "light"
     },
     "output_type": "display_data"
    }
   ],
   "source": [
    "plt.scatter(df['features/free sulfur dioxide'],df['features/total sulfur dioxide'])"
   ]
  },
  {
   "cell_type": "markdown",
   "metadata": {},
   "source": [
    "It looks like there is some correlation between these features. If I had to guess, I would say \"free sulfur dioxide\" is a subset of \"total sulfur dioxide\" but I'm not sure how or even if either of these features would affect the wine quality. This is where domain specific knowledge would be helpful! Since I have a degree in physics and not wine studies (contrary to what my weekend activities may imply) I am going to see what happens when we include both of these features in our network."
   ]
  },
  {
   "cell_type": "markdown",
   "metadata": {},
   "source": [
    "This was just a cursory look at our data. In reality, data scientists will spend most of their time feature engineering, fixing incomplete datasets, cleaning data, etc. Feel free to do more exploratory analysis on the data before you pass it through to a network!"
   ]
  },
  {
   "cell_type": "markdown",
   "metadata": {},
   "source": [
    "## Let's build our network!\n",
    "We want to build a simple DNN to essentially perform a categorization. Let's start with something simple: only a couple hidden layers and a handful of neurons. Of course, in accordance with the Universal Approximation Theorem, any function can be approximated arbitrarily well with an arbitrarily large number of layers (Lu et. al. 2017) or arbitrarily large number of neurons (Cybenko 1989). Does the network perform better or worse with an increase in layers or neurons?"
   ]
  },
  {
   "cell_type": "code",
   "execution_count": 8,
   "metadata": {},
   "outputs": [
    {
     "name": "stdout",
     "output_type": "stream",
     "text": [
      "Model: \"sequential\"\n",
      "_________________________________________________________________\n",
      "Layer (type)                 Output Shape              Param #   \n",
      "=================================================================\n",
      "dense (Dense)                (None, 64)                768       \n",
      "_________________________________________________________________\n",
      "dense_1 (Dense)              (None, 64)                4160      \n",
      "_________________________________________________________________\n",
      "dense_2 (Dense)              (None, 64)                4160      \n",
      "_________________________________________________________________\n",
      "dense_3 (Dense)              (None, 7)                 455       \n",
      "=================================================================\n",
      "Total params: 9,543\n",
      "Trainable params: 9,543\n",
      "Non-trainable params: 0\n",
      "_________________________________________________________________\n"
     ]
    }
   ],
   "source": [
    "cols = df.columns\n",
    "nClasses = len(labels[0])\n",
    "\n",
    "#using Keras's Sequential model - https://keras.io/api/models/sequential/\n",
    "model = Sequential()\n",
    "#add input layer\n",
    "model.add(Input(shape=(len(cols),))) #the input layer shape should match the number of features we have\n",
    "#add first layer of fully connected neurons\n",
    "model.add(Dense(64,activation='relu'))\n",
    "#add second layer (first hidden layer)\n",
    "model.add(Dense(64,activation='relu'))\n",
    "#and one more because why not\n",
    "model.add(Dense(64,activation='relu'))\n",
    "#finally, our output layer should have only one neuron because we are trying to predict only one number\n",
    "#notice how there is a different activation function in this layer\n",
    "#this is because we want our outputs for each class to be a probability\n",
    "model.add(Dense(nClasses,activation='softmax'))\n",
    "\n",
    "#compile our model - set our loss metric (categorical cross entropy) and optimizer (stochastic gradient descent)\n",
    "#how does the model performance change with different optimizers (ie AdaGrad, SGD, etc.)?\n",
    "model.compile(loss='CategoricalCrossentropy',optimizer='Adam',metrics=['accuracy'])\n",
    "\n",
    "#let's see a summary of our model\n",
    "model.summary()"
   ]
  },
  {
   "cell_type": "markdown",
   "metadata": {},
   "source": [
    "As shown above, we have a network with four layers, 128 neurons/layer, for a total of ~50k trainable parameters (remember: parameters are the biases and weights that the network learns). Imagine how many parameters a large, complex network at Google has!"
   ]
  },
  {
   "cell_type": "markdown",
   "metadata": {},
   "source": [
    "### the same model can be built using the generic Model class and slightly different syntax\n",
    "`\n",
    "inputs = tf.keras.Input(shape=(len(cols),))\n",
    "outputs_L1 = Dense(64, activation='relu')(inputs)\n",
    "outputs_L2 = Dense(64, activation='relu')(outputs_L1)\n",
    "outputs_L3 = Dense(64, activation='relu')(outputs_L2)\n",
    "pred = Dense(1)(outputs_L3)\n",
    "model = Model(inputs=inputs,outputs=pred)\n",
    "`"
   ]
  },
  {
   "cell_type": "markdown",
   "metadata": {},
   "source": [
    "### Training our model\n",
    "\n",
    "Let's give our model all the input features (df), the corresponding labels (labels)\n",
    "\n",
    "There is a 20% validation split, which means that 80% of our data will be used to train the model parameters\n",
    "while 20% of it will be saved to \"check\" our answers. This is data that the model has not seen (been trained on) so the performance on the validation data should give us an idea of if the model is over- or underfitting.\n",
    "\n",
    "We will train for 100 epochs, which means that the entire dataset will be passed through the whole network 100 times. Our batch size is 20, meaning that 20 samples at a time are passed to the network before the parameters are updated. The `shuffle` argument ensures that our data is shuffled before the beginning of each epoch to reduce spurious learned correlations. What happens if you let the model run for more epochs?\n"
   ]
  },
  {
   "cell_type": "code",
   "execution_count": 9,
   "metadata": {},
   "outputs": [
    {
     "name": "stdout",
     "output_type": "stream",
     "text": [
      "Epoch 1/100\n",
      "41/41 [==============================] - 2s 29ms/step - loss: 2.5480 - accuracy: 0.3372 - val_loss: 1.2941 - val_accuracy: 0.4439\n",
      "Epoch 2/100\n",
      "41/41 [==============================] - 0s 5ms/step - loss: 1.2880 - accuracy: 0.4366 - val_loss: 1.2413 - val_accuracy: 0.4587\n",
      "Epoch 3/100\n",
      "41/41 [==============================] - 0s 7ms/step - loss: 1.2507 - accuracy: 0.4321 - val_loss: 1.2290 - val_accuracy: 0.4855\n",
      "Epoch 4/100\n",
      "41/41 [==============================] - 0s 4ms/step - loss: 1.2300 - accuracy: 0.4623 - val_loss: 1.2680 - val_accuracy: 0.4313\n",
      "Epoch 5/100\n",
      "41/41 [==============================] - 0s 4ms/step - loss: 1.2239 - accuracy: 0.4707 - val_loss: 1.2298 - val_accuracy: 0.4427\n",
      "Epoch 6/100\n",
      "41/41 [==============================] - 0s 4ms/step - loss: 1.2315 - accuracy: 0.4478 - val_loss: 1.2406 - val_accuracy: 0.4610\n",
      "Epoch 7/100\n",
      "41/41 [==============================] - 0s 4ms/step - loss: 1.2182 - accuracy: 0.4565 - val_loss: 1.2039 - val_accuracy: 0.5014\n",
      "Epoch 8/100\n",
      "41/41 [==============================] - 0s 4ms/step - loss: 1.2057 - accuracy: 0.4571 - val_loss: 1.1800 - val_accuracy: 0.4724\n",
      "Epoch 9/100\n",
      "41/41 [==============================] - 0s 4ms/step - loss: 1.2054 - accuracy: 0.4578 - val_loss: 1.1875 - val_accuracy: 0.4695\n",
      "Epoch 10/100\n",
      "41/41 [==============================] - 0s 4ms/step - loss: 1.1779 - accuracy: 0.4750 - val_loss: 1.2122 - val_accuracy: 0.4427\n",
      "Epoch 11/100\n",
      "41/41 [==============================] - 0s 4ms/step - loss: 1.1874 - accuracy: 0.4753 - val_loss: 1.1919 - val_accuracy: 0.4587\n",
      "Epoch 12/100\n",
      "41/41 [==============================] - 0s 6ms/step - loss: 1.1721 - accuracy: 0.4885 - val_loss: 1.2064 - val_accuracy: 0.4661\n",
      "Epoch 13/100\n",
      "41/41 [==============================] - 0s 4ms/step - loss: 1.1912 - accuracy: 0.4633 - val_loss: 1.1585 - val_accuracy: 0.5060\n",
      "Epoch 14/100\n",
      "41/41 [==============================] - 0s 4ms/step - loss: 1.1393 - accuracy: 0.5064 - val_loss: 1.1545 - val_accuracy: 0.5060\n",
      "Epoch 15/100\n",
      "41/41 [==============================] - 0s 4ms/step - loss: 1.1519 - accuracy: 0.4935 - val_loss: 1.1849 - val_accuracy: 0.4764\n",
      "Epoch 16/100\n",
      "41/41 [==============================] - 0s 4ms/step - loss: 1.1649 - accuracy: 0.4914 - val_loss: 1.3055 - val_accuracy: 0.4359\n",
      "Epoch 17/100\n",
      "41/41 [==============================] - 0s 4ms/step - loss: 1.1945 - accuracy: 0.4833 - val_loss: 1.1615 - val_accuracy: 0.4934\n",
      "Epoch 18/100\n",
      "41/41 [==============================] - 0s 4ms/step - loss: 1.1573 - accuracy: 0.4954 - val_loss: 1.1411 - val_accuracy: 0.4917\n",
      "Epoch 19/100\n",
      "41/41 [==============================] - 0s 4ms/step - loss: 1.1146 - accuracy: 0.5136 - val_loss: 1.1324 - val_accuracy: 0.4838\n",
      "Epoch 20/100\n",
      "41/41 [==============================] - 0s 4ms/step - loss: 1.1432 - accuracy: 0.4997 - val_loss: 1.1366 - val_accuracy: 0.4786\n",
      "Epoch 21/100\n",
      "41/41 [==============================] - 0s 4ms/step - loss: 1.1100 - accuracy: 0.5091 - val_loss: 1.1437 - val_accuracy: 0.5054\n",
      "Epoch 22/100\n",
      "41/41 [==============================] - 0s 4ms/step - loss: 1.1254 - accuracy: 0.5080 - val_loss: 1.1357 - val_accuracy: 0.4764\n",
      "Epoch 23/100\n",
      "41/41 [==============================] - 0s 4ms/step - loss: 1.1292 - accuracy: 0.5025 - val_loss: 1.1383 - val_accuracy: 0.4940\n",
      "Epoch 24/100\n",
      "41/41 [==============================] - 0s 4ms/step - loss: 1.1045 - accuracy: 0.5164 - val_loss: 1.1204 - val_accuracy: 0.5362\n",
      "Epoch 25/100\n",
      "41/41 [==============================] - 0s 4ms/step - loss: 1.1130 - accuracy: 0.5125 - val_loss: 1.2047 - val_accuracy: 0.4764\n",
      "Epoch 26/100\n",
      "41/41 [==============================] - 0s 3ms/step - loss: 1.1143 - accuracy: 0.4923 - val_loss: 1.1431 - val_accuracy: 0.4889\n",
      "Epoch 27/100\n",
      "41/41 [==============================] - 0s 4ms/step - loss: 1.1023 - accuracy: 0.5129 - val_loss: 1.3051 - val_accuracy: 0.4456\n",
      "Epoch 28/100\n",
      "41/41 [==============================] - 0s 4ms/step - loss: 1.1409 - accuracy: 0.5000 - val_loss: 1.1051 - val_accuracy: 0.5271\n",
      "Epoch 29/100\n",
      "41/41 [==============================] - 0s 4ms/step - loss: 1.0776 - accuracy: 0.5218 - val_loss: 1.1155 - val_accuracy: 0.5020\n",
      "Epoch 30/100\n",
      "41/41 [==============================] - 0s 4ms/step - loss: 1.0964 - accuracy: 0.5215 - val_loss: 1.1104 - val_accuracy: 0.5134\n",
      "Epoch 31/100\n",
      "41/41 [==============================] - 0s 4ms/step - loss: 1.0819 - accuracy: 0.5262 - val_loss: 1.1738 - val_accuracy: 0.4809\n",
      "Epoch 32/100\n",
      "41/41 [==============================] - 0s 4ms/step - loss: 1.1102 - accuracy: 0.5074 - val_loss: 1.1129 - val_accuracy: 0.5259\n",
      "Epoch 33/100\n",
      "41/41 [==============================] - 0s 4ms/step - loss: 1.0960 - accuracy: 0.5096 - val_loss: 1.1346 - val_accuracy: 0.5128\n",
      "Epoch 34/100\n",
      "41/41 [==============================] - 0s 4ms/step - loss: 1.0909 - accuracy: 0.5091 - val_loss: 1.1028 - val_accuracy: 0.5333\n",
      "Epoch 35/100\n",
      "41/41 [==============================] - 0s 4ms/step - loss: 1.0497 - accuracy: 0.5352 - val_loss: 1.1188 - val_accuracy: 0.5464\n",
      "Epoch 36/100\n",
      "41/41 [==============================] - 0s 4ms/step - loss: 1.0824 - accuracy: 0.5185 - val_loss: 1.1455 - val_accuracy: 0.4758\n",
      "Epoch 37/100\n",
      "41/41 [==============================] - 0s 4ms/step - loss: 1.1218 - accuracy: 0.5123 - val_loss: 1.0961 - val_accuracy: 0.5259\n",
      "Epoch 38/100\n",
      "41/41 [==============================] - 0s 3ms/step - loss: 1.0774 - accuracy: 0.5252 - val_loss: 1.1288 - val_accuracy: 0.4889\n",
      "Epoch 39/100\n",
      "41/41 [==============================] - 0s 3ms/step - loss: 1.0560 - accuracy: 0.5410 - val_loss: 1.0845 - val_accuracy: 0.5305\n",
      "Epoch 40/100\n",
      "41/41 [==============================] - 0s 3ms/step - loss: 1.0722 - accuracy: 0.5253 - val_loss: 1.0915 - val_accuracy: 0.5339\n",
      "Epoch 41/100\n",
      "41/41 [==============================] - 0s 3ms/step - loss: 1.0500 - accuracy: 0.5403 - val_loss: 1.0902 - val_accuracy: 0.5299\n",
      "Epoch 42/100\n",
      "41/41 [==============================] - 0s 6ms/step - loss: 1.0431 - accuracy: 0.5405 - val_loss: 1.1115 - val_accuracy: 0.5162\n",
      "Epoch 43/100\n",
      "41/41 [==============================] - 0s 3ms/step - loss: 1.0596 - accuracy: 0.5282 - val_loss: 1.1311 - val_accuracy: 0.5179\n",
      "Epoch 44/100\n",
      "41/41 [==============================] - 0s 3ms/step - loss: 1.0984 - accuracy: 0.5164 - val_loss: 1.0905 - val_accuracy: 0.5225\n",
      "Epoch 45/100\n",
      "41/41 [==============================] - 0s 3ms/step - loss: 1.0671 - accuracy: 0.5245 - val_loss: 1.0914 - val_accuracy: 0.5345\n",
      "Epoch 46/100\n",
      "41/41 [==============================] - 0s 3ms/step - loss: 1.0565 - accuracy: 0.5369 - val_loss: 1.1254 - val_accuracy: 0.4940\n",
      "Epoch 47/100\n",
      "41/41 [==============================] - 0s 3ms/step - loss: 1.0568 - accuracy: 0.5472 - val_loss: 1.0870 - val_accuracy: 0.5299\n",
      "Epoch 48/100\n",
      "41/41 [==============================] - 0s 3ms/step - loss: 1.0679 - accuracy: 0.5331 - val_loss: 1.1594 - val_accuracy: 0.4644\n",
      "Epoch 49/100\n",
      "41/41 [==============================] - 0s 3ms/step - loss: 1.0868 - accuracy: 0.5280 - val_loss: 1.0986 - val_accuracy: 0.5385\n",
      "Epoch 50/100\n",
      "41/41 [==============================] - 0s 4ms/step - loss: 1.0573 - accuracy: 0.5256 - val_loss: 1.1097 - val_accuracy: 0.5271\n",
      "Epoch 51/100\n",
      "41/41 [==============================] - 0s 4ms/step - loss: 1.0698 - accuracy: 0.5243 - val_loss: 1.1030 - val_accuracy: 0.5048\n",
      "Epoch 52/100\n",
      "41/41 [==============================] - 0s 3ms/step - loss: 1.0595 - accuracy: 0.5361 - val_loss: 1.0993 - val_accuracy: 0.5197\n",
      "Epoch 53/100\n",
      "41/41 [==============================] - 0s 4ms/step - loss: 1.0659 - accuracy: 0.5384 - val_loss: 1.0889 - val_accuracy: 0.5282\n",
      "Epoch 54/100\n",
      "41/41 [==============================] - 0s 3ms/step - loss: 1.0772 - accuracy: 0.5256 - val_loss: 1.0914 - val_accuracy: 0.5430\n",
      "Epoch 55/100\n",
      "41/41 [==============================] - 0s 4ms/step - loss: 1.0292 - accuracy: 0.5395 - val_loss: 1.1458 - val_accuracy: 0.4644\n",
      "Epoch 56/100\n",
      "41/41 [==============================] - 0s 4ms/step - loss: 1.0561 - accuracy: 0.5388 - val_loss: 1.0964 - val_accuracy: 0.5328\n",
      "Epoch 57/100\n",
      "41/41 [==============================] - 0s 4ms/step - loss: 1.0382 - accuracy: 0.5534 - val_loss: 1.0922 - val_accuracy: 0.5311\n",
      "Epoch 58/100\n",
      "41/41 [==============================] - 0s 4ms/step - loss: 1.0515 - accuracy: 0.5387 - val_loss: 1.1399 - val_accuracy: 0.5077\n"
     ]
    },
    {
     "name": "stdout",
     "output_type": "stream",
     "text": [
      "Epoch 59/100\n",
      "41/41 [==============================] - 0s 4ms/step - loss: 1.0618 - accuracy: 0.5156 - val_loss: 1.2046 - val_accuracy: 0.4541\n",
      "Epoch 60/100\n",
      "41/41 [==============================] - 0s 3ms/step - loss: 1.0483 - accuracy: 0.5407 - val_loss: 1.0822 - val_accuracy: 0.5436\n",
      "Epoch 61/100\n",
      "41/41 [==============================] - 0s 3ms/step - loss: 1.0404 - accuracy: 0.5536 - val_loss: 1.1002 - val_accuracy: 0.4980\n",
      "Epoch 62/100\n",
      "41/41 [==============================] - 0s 3ms/step - loss: 1.0347 - accuracy: 0.5360 - val_loss: 1.0983 - val_accuracy: 0.5020\n",
      "Epoch 63/100\n",
      "41/41 [==============================] - 0s 3ms/step - loss: 1.0478 - accuracy: 0.5465 - val_loss: 1.1087 - val_accuracy: 0.4934\n",
      "Epoch 64/100\n",
      "41/41 [==============================] - 0s 3ms/step - loss: 1.0420 - accuracy: 0.5360 - val_loss: 1.1095 - val_accuracy: 0.5276\n",
      "Epoch 65/100\n",
      "41/41 [==============================] - 0s 3ms/step - loss: 1.0252 - accuracy: 0.5409 - val_loss: 1.1000 - val_accuracy: 0.5271\n",
      "Epoch 66/100\n",
      "41/41 [==============================] - 0s 6ms/step - loss: 1.0429 - accuracy: 0.5435 - val_loss: 1.0888 - val_accuracy: 0.5242\n",
      "Epoch 67/100\n",
      "41/41 [==============================] - 0s 4ms/step - loss: 1.0494 - accuracy: 0.5472 - val_loss: 1.0737 - val_accuracy: 0.5402\n",
      "Epoch 68/100\n",
      "41/41 [==============================] - 0s 3ms/step - loss: 1.0391 - accuracy: 0.5398 - val_loss: 1.1028 - val_accuracy: 0.5009\n",
      "Epoch 69/100\n",
      "41/41 [==============================] - 0s 3ms/step - loss: 1.0596 - accuracy: 0.5282 - val_loss: 1.1121 - val_accuracy: 0.4934\n",
      "Epoch 70/100\n",
      "41/41 [==============================] - 0s 3ms/step - loss: 1.0452 - accuracy: 0.5386 - val_loss: 1.0855 - val_accuracy: 0.5248\n",
      "Epoch 71/100\n",
      "41/41 [==============================] - 0s 4ms/step - loss: 1.0250 - accuracy: 0.5350 - val_loss: 1.0956 - val_accuracy: 0.5362\n",
      "Epoch 72/100\n",
      "41/41 [==============================] - 0s 3ms/step - loss: 1.0477 - accuracy: 0.5426 - val_loss: 1.1112 - val_accuracy: 0.5077\n",
      "Epoch 73/100\n",
      "41/41 [==============================] - 0s 3ms/step - loss: 1.0417 - accuracy: 0.5310 - val_loss: 1.0951 - val_accuracy: 0.5390\n",
      "Epoch 74/100\n",
      "41/41 [==============================] - 0s 3ms/step - loss: 0.9982 - accuracy: 0.5627 - val_loss: 1.0768 - val_accuracy: 0.5396\n",
      "Epoch 75/100\n",
      "41/41 [==============================] - 0s 3ms/step - loss: 1.0405 - accuracy: 0.5402 - val_loss: 1.0720 - val_accuracy: 0.5436\n",
      "Epoch 76/100\n",
      "41/41 [==============================] - 0s 4ms/step - loss: 1.0245 - accuracy: 0.5446 - val_loss: 1.0907 - val_accuracy: 0.5242\n",
      "Epoch 77/100\n",
      "41/41 [==============================] - 0s 4ms/step - loss: 1.0401 - accuracy: 0.5381 - val_loss: 1.1687 - val_accuracy: 0.4735\n",
      "Epoch 78/100\n",
      "41/41 [==============================] - 0s 3ms/step - loss: 1.0730 - accuracy: 0.5185 - val_loss: 1.0862 - val_accuracy: 0.5425\n",
      "Epoch 79/100\n",
      "41/41 [==============================] - 0s 3ms/step - loss: 1.0623 - accuracy: 0.5327 - val_loss: 1.0876 - val_accuracy: 0.5259\n",
      "Epoch 80/100\n",
      "41/41 [==============================] - 0s 4ms/step - loss: 1.0075 - accuracy: 0.5593 - val_loss: 1.0867 - val_accuracy: 0.5350\n",
      "Epoch 81/100\n",
      "41/41 [==============================] - 0s 3ms/step - loss: 1.0376 - accuracy: 0.5384 - val_loss: 1.0883 - val_accuracy: 0.5254\n",
      "Epoch 82/100\n",
      "41/41 [==============================] - 0s 4ms/step - loss: 1.0383 - accuracy: 0.5338 - val_loss: 1.0796 - val_accuracy: 0.5385\n",
      "Epoch 83/100\n",
      "41/41 [==============================] - 0s 3ms/step - loss: 1.0098 - accuracy: 0.5595 - val_loss: 1.1082 - val_accuracy: 0.4986\n",
      "Epoch 84/100\n",
      "41/41 [==============================] - 0s 4ms/step - loss: 1.0516 - accuracy: 0.5389 - val_loss: 1.1200 - val_accuracy: 0.5202\n",
      "Epoch 85/100\n",
      "41/41 [==============================] - 0s 3ms/step - loss: 1.0461 - accuracy: 0.5522 - val_loss: 1.0841 - val_accuracy: 0.5407\n",
      "Epoch 86/100\n",
      "41/41 [==============================] - 0s 6ms/step - loss: 1.0494 - accuracy: 0.5532 - val_loss: 1.0806 - val_accuracy: 0.5430\n",
      "Epoch 87/100\n",
      "41/41 [==============================] - 0s 3ms/step - loss: 1.0220 - accuracy: 0.5530 - val_loss: 1.1030 - val_accuracy: 0.5179\n",
      "Epoch 88/100\n",
      "41/41 [==============================] - 0s 3ms/step - loss: 1.0418 - accuracy: 0.5371 - val_loss: 1.0995 - val_accuracy: 0.5037\n",
      "Epoch 89/100\n",
      "41/41 [==============================] - 0s 3ms/step - loss: 1.0268 - accuracy: 0.5453 - val_loss: 1.0894 - val_accuracy: 0.5185\n",
      "Epoch 90/100\n",
      "41/41 [==============================] - 0s 4ms/step - loss: 1.0299 - accuracy: 0.5441 - val_loss: 1.0877 - val_accuracy: 0.5402\n",
      "Epoch 91/100\n",
      "41/41 [==============================] - 0s 3ms/step - loss: 1.0551 - accuracy: 0.5374 - val_loss: 1.0902 - val_accuracy: 0.5140\n",
      "Epoch 92/100\n",
      "41/41 [==============================] - 0s 3ms/step - loss: 1.0170 - accuracy: 0.5538 - val_loss: 1.0842 - val_accuracy: 0.5464\n",
      "Epoch 93/100\n",
      "41/41 [==============================] - 0s 3ms/step - loss: 1.0269 - accuracy: 0.5323 - val_loss: 1.0987 - val_accuracy: 0.5299\n",
      "Epoch 94/100\n",
      "41/41 [==============================] - 0s 4ms/step - loss: 1.0262 - accuracy: 0.5482 - val_loss: 1.1017 - val_accuracy: 0.5254\n",
      "Epoch 95/100\n",
      "41/41 [==============================] - 0s 4ms/step - loss: 1.0074 - accuracy: 0.5490 - val_loss: 1.0898 - val_accuracy: 0.5333\n",
      "Epoch 96/100\n",
      "41/41 [==============================] - 0s 3ms/step - loss: 1.0206 - accuracy: 0.5457 - val_loss: 1.1273 - val_accuracy: 0.4929\n",
      "Epoch 97/100\n",
      "41/41 [==============================] - 0s 4ms/step - loss: 1.0373 - accuracy: 0.5376 - val_loss: 1.1638 - val_accuracy: 0.5265\n",
      "Epoch 98/100\n",
      "41/41 [==============================] - 0s 3ms/step - loss: 1.0246 - accuracy: 0.5415 - val_loss: 1.0857 - val_accuracy: 0.5191\n",
      "Epoch 99/100\n",
      "41/41 [==============================] - 0s 4ms/step - loss: 1.0263 - accuracy: 0.5392 - val_loss: 1.1011 - val_accuracy: 0.5145\n",
      "Epoch 100/100\n",
      "41/41 [==============================] - 0s 3ms/step - loss: 1.0057 - accuracy: 0.5588 - val_loss: 1.0883 - val_accuracy: 0.5333\n"
     ]
    }
   ],
   "source": [
    "history = model.fit(\n",
    "    df, labels,\n",
    "    validation_split=0.3,\n",
    "    verbose=1, epochs=100, batch_size=100, shuffle=True)"
   ]
  },
  {
   "cell_type": "markdown",
   "metadata": {},
   "source": [
    "Let's define a function to visualize our loss"
   ]
  },
  {
   "cell_type": "code",
   "execution_count": 10,
   "metadata": {},
   "outputs": [
    {
     "data": {
      "image/png": "[encoded data removed]",
      "text/plain": [
       "<Figure size 432x288 with 1 Axes>"
      ]
     },
     "metadata": {
      "needs_background": "light"
     },
     "output_type": "display_data"
    }
   ],
   "source": [
    "def show_loss(history):\n",
    "    plt.figure()\n",
    "    plt.plot(history.history['val_loss'], label=\"val loss\")\n",
    "    plt.plot(history.history['loss'],label=\"train loss\")\n",
    "    plt.xlabel(\"Epoch\")\n",
    "    plt.ylabel(\"Loss\")\n",
    "    plt.legend()\n",
    "show_loss(history)"
   ]
  },
  {
   "cell_type": "markdown",
   "metadata": {},
   "source": [
    "It looks like our training loss is more or less monotonically minimized with each epoch (with some fluctuations) while the validation loss seems to be on average higher. The validation loss spikes more severely than the training loss, which is probably due to limited statistics (we only had ~6k samples and took onlt 20% of them for validation - it usually takes LOTS of data to train neural networks well!). The trend discrepancy between training and validation losses could indicate some overfitting in our model. What happens if you increase the percentage of data used for validation? Since it's pretty apparent we're overfitting to our training data, we could introduce some sort of regularization techniques, like L2 regularization (that penalizes large weights) or dropout (that randomly drops neurons in a layer with a set probability). What happens if you introduce some of these methods?"
   ]
  },
  {
   "cell_type": "markdown",
   "metadata": {},
   "source": [
    "### Remember that test data we set aside at the beginning?\n",
    "Now it's time to use it to evaluate our model performance!"
   ]
  },
  {
   "cell_type": "code",
   "execution_count": 11,
   "metadata": {
    "scrolled": true
   },
   "outputs": [
    {
     "name": "stdout",
     "output_type": "stream",
     "text": [
      "21/21 [==============================] - 0s 1ms/step - loss: 1.0632 - accuracy: 0.5462\n",
      "Accuracy for test data is 0.5461538434028625\n"
     ]
    }
   ],
   "source": [
    "_, acc = model.evaluate(df_test, df_testLabels, verbose=1)\n",
    "print('Accuracy for test data is',acc)"
   ]
  },
  {
   "cell_type": "markdown",
   "metadata": {},
   "source": [
    "To plot our results, I just chose the highest probability of the classes and assigned the prediction to a class based on that rounding (highest probability gets a 1, every other class gets a 0). Then, I one-hot decoded the rounded array to get a single number for the class. "
   ]
  },
  {
   "cell_type": "code",
   "execution_count": 12,
   "metadata": {},
   "outputs": [
    {
     "data": {
      "image/png": "[encoded data removed]",
      "text/plain": [
       "<Figure size 432x288 with 2 Axes>"
      ]
     },
     "metadata": {
      "needs_background": "light"
     },
     "output_type": "display_data"
    }
   ],
   "source": [
    "preds = model.predict(df_test)\n",
    "# preds = [i.round() for i in preds]\n",
    "preds = tf.one_hot(tf.mathargmax(pred, axis = 1),depth = len(preds[0]))\n",
    "\n",
    "preds = enc.inverse_transform(preds)\n",
    "testLabels = enc.inverse_transform(df_testLabels)\n",
    "cm = confusion_matrix(testLabels, preds)\n",
    "\n",
    "_ =plt.imshow(cm, cmap=plt.cm.Blues)\n",
    "_ = plt.xlabel(\"Predicted labels\")\n",
    "_ = plt.ylabel(\"True labels\")\n",
    "\n",
    "_ =plt.xticks(np.arange(0,len(np.unique(testLabels)),1),np.unique(testLabels))\n",
    "_ =plt.yticks(np.arange(0,len(np.unique(testLabels)),1),np.unique(testLabels))\n",
    "_ =plt.title('Confusion matrix ')\n",
    "_ =plt.colorbar()\n",
    "plt.show()"
   ]
  },
  {
   "cell_type": "markdown",
   "metadata": {},
   "source": [
    "It looks like our network is only predicting *some* of our classes. Maybe that's because really good wine (rated 8 and 9) is pretty rare? Let's check it out."
   ]
  },
  {
   "cell_type": "code",
   "execution_count": 13,
   "metadata": {},
   "outputs": [
    {
     "data": {
      "image/png": "[encoded data removed]",
      "text/plain": [
       "<Figure size 432x288 with 1 Axes>"
      ]
     },
     "metadata": {
      "needs_background": "light"
     },
     "output_type": "display_data"
    }
   ],
   "source": [
    "_=plt.hist(enc.inverse_transform(labels),label='training labels')\n",
    "_=plt.hist(testLabels,label='test labels')\n",
    "_=plt.yscale('log')\n",
    "_=plt.legend()"
   ]
  },
  {
   "cell_type": "markdown",
   "metadata": {},
   "source": [
    "Yep! Mostly 5s, 6s, and 7s. Only a handful of really good wines (8s and 9s) and really bad wines (3s and 4s). In fact, no scores below a 3! But no perfect 10s either. Overall, I would say that the dataset is imbalanced (mostly ok wines, some bad and some good - a pretty Gaussian distribution) and could benefit from data augmentation techniques like bootstrapping! Maybe you could even generate some more data from randomly sampling a known distribution...But if you train your model on mostly ok wines, then it learns the characteristics of those wines really well. So, when it's faced with a good or bad wine, it's not as sure how to classify it. You can see if this is happening by looking at the network output, which are the probabilities for each class (ie how sure the network is this sample belongs to a certain class)."
   ]
  },
  {
   "cell_type": "markdown",
   "metadata": {},
   "source": [
    "### Overall, \n",
    "our network performs ok with a training, validation, and test accuracy all around 50-60%. What could you change about the network or inputs? How do you think that would affect the model's predictions?"
   ]
  },
  {
   "cell_type": "code",
   "execution_count": null,
   "metadata": {},
   "outputs": [],
   "source": []
  }
 ],
 "metadata": {
  "kernelspec": {
   "name": "python394jvsc74a57bd0ac59ebe37160ed0dfa835113d9b8498d9f09ceb179beaac4002f036b9467c963",
   "display_name": "Python 3.9.4 64-bit"
  },
  "language_info": {
   "codemirror_mode": {
    "name": "ipython",
    "version": 3
   },
   "file_extension": ".py",
   "mimetype": "text/x-python",
   "name": "python",
   "nbconvert_exporter": "python",
   "pygments_lexer": "ipython3",
   "version": "3.9.4-final"
  },
  "metadata": {
   "interpreter": {
    "hash": "ac59ebe37160ed0dfa835113d9b8498d9f09ceb179beaac4002f036b9467c963"
   }
  }
 },
 "nbformat": 4,
 "nbformat_minor": 2
}