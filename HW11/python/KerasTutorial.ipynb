{
 "cells": [
  {
   "cell_type": "markdown",
   "metadata": {},
   "source": [
    "## PHSX 815 Neural Network with Keras tutorial\n",
    "### How can we predict the quality of wine based on its physical characteristics?\n",
    "We will download the `wine_quality` dataset from Tensorflow (the Keras backend) to train a neural network to predict wine quality."
   ]
  },
  {
   "cell_type": "code",
   "execution_count": 1,
   "metadata": {},
   "outputs": [
    {
     "name": "stdout",
     "output_type": "stream",
     "text": [
      "INFO:tensorflow:Enabling eager execution\n",
      "INFO:tensorflow:Enabling v2 tensorshape\n",
      "INFO:tensorflow:Enabling resource variables\n",
      "INFO:tensorflow:Enabling tensor equality\n",
      "INFO:tensorflow:Enabling control flow v2\n"
     ]
    }
   ],
   "source": [
    "import matplotlib.pyplot as plt\n",
    "import seaborn as sns\n",
    "import numpy as np\n",
    "from sklearn.preprocessing import OneHotEncoder, MinMaxScaler\n",
    "from sklearn.metrics import confusion_matrix\n",
    "from sklearn.model_selection import train_test_split\n",
    "import pandas as pd\n",
    "\n",
    "import tensorflow as tf\n",
    "from tensorflow.keras.models import Sequential, Model\n",
    "from tensorflow.keras.layers import *\n",
    "# from tensorflow.keras.optimizers import SGD, Adam\n",
    "# from tensorflow.keras.activations import relu\n",
    "import tensorflow_datasets as tfds\n",
    "from IPython.core.interactiveshell import InteractiveShell\n",
    "InteractiveShell.ast_node_interactivity = \"all\""
   ]
  },
  {
   "cell_type": "code",
   "execution_count": 2,
   "metadata": {},
   "outputs": [
    {
     "name": "stdout",
     "output_type": "stream",
     "text": [
      "Features and label for first entry\n",
      "{'alcohol': 9.0, 'chlorides': 0.054, 'citric acid': 0.34, 'density': 1.0008, 'fixed acidity': 7.6, 'free sulfur dioxide': 44.0, 'pH': 3.22, 'residual sugar': 18.35, 'sulphates': 0.550000011920929, 'total sulfur dioxide': 197.0, 'volatile acidity': 0.32} 5\n",
      "number of samples 6497\n",
      "possible wine quality ratings [5 6 4 8 7 3 9]\n"
     ]
    }
   ],
   "source": [
    "#if you want to load the data as tuples, you can use the as_supervised=True argument\n",
    "data_train = tfds.load('wine_quality',split='train',as_supervised=True)\n",
    "\n",
    "#looking at just one sample of our data\n",
    "pt = data_train.take(1)\n",
    "# type(pt)\n",
    "\n",
    "#can convert this TakeDataset object to a numpy array (can do this for the whole dataset too)\n",
    "print(\"Features and label for first entry\")\n",
    "for features, label in tfds.as_numpy(pt):\n",
    "    print(features,label)\n",
    "\n",
    "#we want to load dataset as a a dictionary of tf.Tensors (can't transform tuples to dataframe)\n",
    "data_train_white = tfds.load('wine_quality/white',split='train')\n",
    "data_train_red = tfds.load('wine_quality/red',split='train')\n",
    "\n",
    "#transform dictionary to dataframe - combining red and white wine\n",
    "df_white = tfds.as_dataframe(data_train_white)\n",
    "df_red = tfds.as_dataframe(data_train_red)\n",
    "df = pd.concat([df_white,df_red])\n",
    "\n",
    "print('number of samples',len(df['quality']))\n",
    "\n",
    "#what are our output possibilities?\n",
    "print('possible wine quality ratings',df['quality'].unique())"
   ]
  },
  {
   "cell_type": "code",
   "execution_count": 3,
   "metadata": {},
   "outputs": [
    {
     "name": "stdout",
     "output_type": "stream",
     "text": [
      "all good!\n"
     ]
    }
   ],
   "source": [
    "#do we have any missing data (empty or NaN entries in features or labels)?\n",
    "dataNans = df.isnull().values.any()\n",
    "if not dataNans:\n",
    "    print(\"all good!\")"
   ]
  },
  {
   "cell_type": "markdown",
   "metadata": {},
   "source": [
    "### Preprocessing our labels\n",
    "Although this may seem like a regression task for a neural network because we are predicting a number (wine quality), the labels are actually *categorical* not *continuous*. If you look at the labels, you see that they are integer values between 5 and 9. Because this is a classification problem, we need to one-hot encode our labels. This means taking our possible outcomes and turning them into arrays of a 1 and 0's. The index of the 1 in the array will tell us which class is which. So, for example, 5 becomes [1,0,0,0,0], 6 becomes [0,1,0,0,0] and so on. We can use a function from sklearn to do this automatically."
   ]
  },
  {
   "cell_type": "markdown",
   "metadata": {},
   "source": [
    "this dataset unfortunately only gives us training data - but we can set aside a portion for testing our network on. in practice, you don't want to test your network on data it has already seen (is it really a prediction if you use your model on data it was fitted to?) but, for educational purposes, we can ~randomly sample our data and call it ~iid.\n",
    "Here, I combine the red and white wine datasets for increased statistics. What happens if you train networks on these datasets separately? Or what happens if you use one dataset to train and one to test?"
   ]
  },
  {
   "cell_type": "code",
   "execution_count": 4,
   "metadata": {},
   "outputs": [
    {
     "data": {
      "text/plain": [
       "array([5, 6, 4, 8, 7, 3, 9], dtype=int64)"
      ]
     },
     "execution_count": 4,
     "metadata": {},
     "output_type": "execute_result"
    },
    {
     "data": {
      "text/html": [
       "<div>\n",
       "<style scoped>\n",
       "    .dataframe tbody tr th:only-of-type {\n",
       "        vertical-align: middle;\n",
       "    }\n",
       "\n",
       "    .dataframe tbody tr th {\n",
       "        vertical-align: top;\n",
       "    }\n",
       "\n",
       "    .dataframe thead th {\n",
       "        text-align: right;\n",
       "    }\n",
       "</style>\n",
       "<table border=\"1\" class=\"dataframe\">\n",
       "  <thead>\n",
       "    <tr style=\"text-align: right;\">\n",
       "      <th></th>\n",
       "      <th>features/alcohol</th>\n",
       "      <th>features/chlorides</th>\n",
       "      <th>features/citric acid</th>\n",
       "      <th>features/density</th>\n",
       "      <th>features/fixed acidity</th>\n",
       "      <th>features/free sulfur dioxide</th>\n",
       "      <th>features/pH</th>\n",
       "      <th>features/residual sugar</th>\n",
       "      <th>features/sulphates</th>\n",
       "      <th>features/total sulfur dioxide</th>\n",
       "      <th>features/volatile acidity</th>\n",
       "    </tr>\n",
       "  </thead>\n",
       "  <tbody>\n",
       "    <tr>\n",
       "      <th>4591</th>\n",
       "      <td>9.3</td>\n",
       "      <td>0.042</td>\n",
       "      <td>0.30</td>\n",
       "      <td>0.99460</td>\n",
       "      <td>5.7</td>\n",
       "      <td>19.0</td>\n",
       "      <td>3.31</td>\n",
       "      <td>4.600000</td>\n",
       "      <td>0.42</td>\n",
       "      <td>101.0</td>\n",
       "      <td>0.135</td>\n",
       "    </tr>\n",
       "    <tr>\n",
       "      <th>4448</th>\n",
       "      <td>9.6</td>\n",
       "      <td>0.055</td>\n",
       "      <td>0.25</td>\n",
       "      <td>0.99767</td>\n",
       "      <td>6.2</td>\n",
       "      <td>8.0</td>\n",
       "      <td>3.19</td>\n",
       "      <td>15.000000</td>\n",
       "      <td>0.53</td>\n",
       "      <td>120.0</td>\n",
       "      <td>0.200</td>\n",
       "    </tr>\n",
       "    <tr>\n",
       "      <th>1762</th>\n",
       "      <td>10.5</td>\n",
       "      <td>0.043</td>\n",
       "      <td>0.31</td>\n",
       "      <td>0.99455</td>\n",
       "      <td>6.4</td>\n",
       "      <td>42.0</td>\n",
       "      <td>3.35</td>\n",
       "      <td>5.300000</td>\n",
       "      <td>0.47</td>\n",
       "      <td>157.0</td>\n",
       "      <td>0.160</td>\n",
       "    </tr>\n",
       "    <tr>\n",
       "      <th>3670</th>\n",
       "      <td>9.0</td>\n",
       "      <td>0.055</td>\n",
       "      <td>0.31</td>\n",
       "      <td>1.00020</td>\n",
       "      <td>7.3</td>\n",
       "      <td>32.0</td>\n",
       "      <td>3.13</td>\n",
       "      <td>17.299999</td>\n",
       "      <td>0.46</td>\n",
       "      <td>197.0</td>\n",
       "      <td>0.180</td>\n",
       "    </tr>\n",
       "    <tr>\n",
       "      <th>2230</th>\n",
       "      <td>10.1</td>\n",
       "      <td>0.068</td>\n",
       "      <td>0.34</td>\n",
       "      <td>0.99138</td>\n",
       "      <td>4.9</td>\n",
       "      <td>32.0</td>\n",
       "      <td>3.24</td>\n",
       "      <td>1.000000</td>\n",
       "      <td>0.40</td>\n",
       "      <td>143.0</td>\n",
       "      <td>0.345</td>\n",
       "    </tr>\n",
       "  </tbody>\n",
       "</table>\n",
       "</div>"
      ],
      "text/plain": [
       "      features/alcohol  features/chlorides  features/citric acid  \\\n",
       "4591               9.3               0.042                  0.30   \n",
       "4448               9.6               0.055                  0.25   \n",
       "1762              10.5               0.043                  0.31   \n",
       "3670               9.0               0.055                  0.31   \n",
       "2230              10.1               0.068                  0.34   \n",
       "\n",
       "      features/density  features/fixed acidity  features/free sulfur dioxide  \\\n",
       "4591           0.99460                     5.7                          19.0   \n",
       "4448           0.99767                     6.2                           8.0   \n",
       "1762           0.99455                     6.4                          42.0   \n",
       "3670           1.00020                     7.3                          32.0   \n",
       "2230           0.99138                     4.9                          32.0   \n",
       "\n",
       "      features/pH  features/residual sugar  features/sulphates  \\\n",
       "4591         3.31                 4.600000                0.42   \n",
       "4448         3.19                15.000000                0.53   \n",
       "1762         3.35                 5.300000                0.47   \n",
       "3670         3.13                17.299999                0.46   \n",
       "2230         3.24                 1.000000                0.40   \n",
       "\n",
       "      features/total sulfur dioxide  features/volatile acidity  \n",
       "4591                          101.0                      0.135  \n",
       "4448                          120.0                      0.200  \n",
       "1762                          157.0                      0.160  \n",
       "3670                          197.0                      0.180  \n",
       "2230                          143.0                      0.345  "
      ]
     },
     "execution_count": 4,
     "metadata": {},
     "output_type": "execute_result"
    }
   ],
   "source": [
    "#it's helpful to separate our input features from our target features (quality) \n",
    "#so we can later only transform our inputs without changing our labels\n",
    "labels = df['quality']\n",
    "df = df.drop(labels='quality',axis=1)\n",
    "labels.unique()\n",
    "\n",
    "enc = OneHotEncoder(sparse=False)\n",
    "labels = enc.fit_transform(labels.to_numpy().reshape(-1,1))\n",
    "\n",
    "#make our test data\n",
    "df, df_test, labels, df_testLabels = train_test_split(df,labels,test_size=0.1)\n",
    "\n",
    "#look at the first 5 entries\n",
    "df.head()"
   ]
  },
  {
   "cell_type": "markdown",
   "metadata": {},
   "source": [
    "### some questions to consider:\n",
    "- how was this data obtained? what goes into engineering the features? what does \"quality\" mean?\n",
    "- do you have to normalize your features?\n",
    "- are there any correlations among features? is this expected? how can we encode this information to the NN or decouple these features?\n",
    "- what does the data look like?\n",
    "- do we have any missing or NaN entries?"
   ]
  },
  {
   "cell_type": "markdown",
   "metadata": {},
   "source": [
    "let's examine the data to see what kinds of transformations we need to make for preprocessing"
   ]
  },
  {
   "cell_type": "code",
   "execution_count": 5,
   "metadata": {},
   "outputs": [
    {
     "data": {
      "text/html": [
       "<div>\n",
       "<style scoped>\n",
       "    .dataframe tbody tr th:only-of-type {\n",
       "        vertical-align: middle;\n",
       "    }\n",
       "\n",
       "    .dataframe tbody tr th {\n",
       "        vertical-align: top;\n",
       "    }\n",
       "\n",
       "    .dataframe thead th {\n",
       "        text-align: right;\n",
       "    }\n",
       "</style>\n",
       "<table border=\"1\" class=\"dataframe\">\n",
       "  <thead>\n",
       "    <tr style=\"text-align: right;\">\n",
       "      <th></th>\n",
       "      <th>features/alcohol</th>\n",
       "      <th>features/chlorides</th>\n",
       "      <th>features/citric acid</th>\n",
       "      <th>features/density</th>\n",
       "      <th>features/fixed acidity</th>\n",
       "      <th>features/free sulfur dioxide</th>\n",
       "      <th>features/pH</th>\n",
       "      <th>features/residual sugar</th>\n",
       "      <th>features/sulphates</th>\n",
       "      <th>features/total sulfur dioxide</th>\n",
       "      <th>features/volatile acidity</th>\n",
       "    </tr>\n",
       "  </thead>\n",
       "  <tbody>\n",
       "    <tr>\n",
       "      <th>count</th>\n",
       "      <td>5847.000000</td>\n",
       "      <td>5847.000000</td>\n",
       "      <td>5847.000000</td>\n",
       "      <td>5847.000000</td>\n",
       "      <td>5847.000000</td>\n",
       "      <td>5847.000000</td>\n",
       "      <td>5847.000000</td>\n",
       "      <td>5847.000000</td>\n",
       "      <td>5847.000000</td>\n",
       "      <td>5847.000000</td>\n",
       "      <td>5847.000000</td>\n",
       "    </tr>\n",
       "    <tr>\n",
       "      <th>mean</th>\n",
       "      <td>10.496237</td>\n",
       "      <td>0.055954</td>\n",
       "      <td>0.317943</td>\n",
       "      <td>0.994690</td>\n",
       "      <td>7.212254</td>\n",
       "      <td>30.499145</td>\n",
       "      <td>3.218736</td>\n",
       "      <td>5.445801</td>\n",
       "      <td>0.531307</td>\n",
       "      <td>115.180691</td>\n",
       "      <td>0.340235</td>\n",
       "    </tr>\n",
       "    <tr>\n",
       "      <th>std</th>\n",
       "      <td>1.189159</td>\n",
       "      <td>0.034859</td>\n",
       "      <td>0.144780</td>\n",
       "      <td>0.003006</td>\n",
       "      <td>1.293089</td>\n",
       "      <td>17.875259</td>\n",
       "      <td>0.160995</td>\n",
       "      <td>4.773511</td>\n",
       "      <td>0.148321</td>\n",
       "      <td>56.568095</td>\n",
       "      <td>0.166059</td>\n",
       "    </tr>\n",
       "    <tr>\n",
       "      <th>min</th>\n",
       "      <td>8.000000</td>\n",
       "      <td>0.009000</td>\n",
       "      <td>0.000000</td>\n",
       "      <td>0.987110</td>\n",
       "      <td>3.800000</td>\n",
       "      <td>1.000000</td>\n",
       "      <td>2.720000</td>\n",
       "      <td>0.600000</td>\n",
       "      <td>0.220000</td>\n",
       "      <td>6.000000</td>\n",
       "      <td>0.080000</td>\n",
       "    </tr>\n",
       "    <tr>\n",
       "      <th>25%</th>\n",
       "      <td>9.500000</td>\n",
       "      <td>0.038000</td>\n",
       "      <td>0.250000</td>\n",
       "      <td>0.992300</td>\n",
       "      <td>6.400000</td>\n",
       "      <td>17.000000</td>\n",
       "      <td>3.110000</td>\n",
       "      <td>1.800000</td>\n",
       "      <td>0.430000</td>\n",
       "      <td>77.000000</td>\n",
       "      <td>0.230000</td>\n",
       "    </tr>\n",
       "    <tr>\n",
       "      <th>50%</th>\n",
       "      <td>10.300000</td>\n",
       "      <td>0.047000</td>\n",
       "      <td>0.310000</td>\n",
       "      <td>0.994880</td>\n",
       "      <td>7.000000</td>\n",
       "      <td>29.000000</td>\n",
       "      <td>3.210000</td>\n",
       "      <td>3.000000</td>\n",
       "      <td>0.510000</td>\n",
       "      <td>118.000000</td>\n",
       "      <td>0.290000</td>\n",
       "    </tr>\n",
       "    <tr>\n",
       "      <th>75%</th>\n",
       "      <td>11.300000</td>\n",
       "      <td>0.065000</td>\n",
       "      <td>0.390000</td>\n",
       "      <td>0.996990</td>\n",
       "      <td>7.700000</td>\n",
       "      <td>41.000000</td>\n",
       "      <td>3.320000</td>\n",
       "      <td>8.100000</td>\n",
       "      <td>0.600000</td>\n",
       "      <td>155.000000</td>\n",
       "      <td>0.402500</td>\n",
       "    </tr>\n",
       "    <tr>\n",
       "      <th>max</th>\n",
       "      <td>14.900000</td>\n",
       "      <td>0.611000</td>\n",
       "      <td>1.230000</td>\n",
       "      <td>1.038980</td>\n",
       "      <td>15.900000</td>\n",
       "      <td>289.000000</td>\n",
       "      <td>4.010000</td>\n",
       "      <td>65.800003</td>\n",
       "      <td>2.000000</td>\n",
       "      <td>440.000000</td>\n",
       "      <td>1.580000</td>\n",
       "    </tr>\n",
       "  </tbody>\n",
       "</table>\n",
       "</div>"
      ],
      "text/plain": [
       "       features/alcohol  features/chlorides  features/citric acid  \\\n",
       "count       5847.000000         5847.000000           5847.000000   \n",
       "mean          10.496237            0.055954              0.317943   \n",
       "std            1.189159            0.034859              0.144780   \n",
       "min            8.000000            0.009000              0.000000   \n",
       "25%            9.500000            0.038000              0.250000   \n",
       "50%           10.300000            0.047000              0.310000   \n",
       "75%           11.300000            0.065000              0.390000   \n",
       "max           14.900000            0.611000              1.230000   \n",
       "\n",
       "       features/density  features/fixed acidity  features/free sulfur dioxide  \\\n",
       "count       5847.000000             5847.000000                   5847.000000   \n",
       "mean           0.994690                7.212254                     30.499145   \n",
       "std            0.003006                1.293089                     17.875259   \n",
       "min            0.987110                3.800000                      1.000000   \n",
       "25%            0.992300                6.400000                     17.000000   \n",
       "50%            0.994880                7.000000                     29.000000   \n",
       "75%            0.996990                7.700000                     41.000000   \n",
       "max            1.038980               15.900000                    289.000000   \n",
       "\n",
       "       features/pH  features/residual sugar  features/sulphates  \\\n",
       "count  5847.000000              5847.000000         5847.000000   \n",
       "mean      3.218736                 5.445801            0.531307   \n",
       "std       0.160995                 4.773511            0.148321   \n",
       "min       2.720000                 0.600000            0.220000   \n",
       "25%       3.110000                 1.800000            0.430000   \n",
       "50%       3.210000                 3.000000            0.510000   \n",
       "75%       3.320000                 8.100000            0.600000   \n",
       "max       4.010000                65.800003            2.000000   \n",
       "\n",
       "       features/total sulfur dioxide  features/volatile acidity  \n",
       "count                    5847.000000                5847.000000  \n",
       "mean                      115.180691                   0.340235  \n",
       "std                        56.568095                   0.166059  \n",
       "min                         6.000000                   0.080000  \n",
       "25%                        77.000000                   0.230000  \n",
       "50%                       118.000000                   0.290000  \n",
       "75%                       155.000000                   0.402500  \n",
       "max                       440.000000                   1.580000  "
      ]
     },
     "execution_count": 5,
     "metadata": {},
     "output_type": "execute_result"
    }
   ],
   "source": [
    "df.describe()"
   ]
  },
  {
   "cell_type": "markdown",
   "metadata": {},
   "source": [
    "### Visualizing data\n",
    "If you want a cool and easy way to visualize not only the features, but also the correlations between features, you can use the following seaborn function, which will display the individual features on the diagonal of the subplots and the correlations between features\n",
    "\n",
    "`pl = sns.pairplot(df[df.columns], diag_kind='kde')`"
   ]
  },
  {
   "cell_type": "code",
   "execution_count": 6,
   "metadata": {},
   "outputs": [
    {
     "data": {
      "image/png": "[encoded data removed]",
      "text/plain": [
       "<Figure size 1080x1440 with 12 Axes>"
      ]
     },
     "metadata": {
      "needs_background": "light"
     },
     "output_type": "display_data"
    }
   ],
   "source": [
    "#visualizing our input features\n",
    "nFeatures = len(df.columns)\n",
    "nCols = 3\n",
    "nRows = int(np.ceil(nFeatures/nCols))\n",
    "cols = df.columns\n",
    "fig, axs = plt.subplots(nRows,nCols,figsize=(15,20))\n",
    "# for i, ax in enumerate(axs)\n",
    "col = 0\n",
    "for i in range(nRows):\n",
    "    for j in range(nCols):\n",
    "        if col >= nFeatures:\n",
    "            break\n",
    "        h = axs[i,j].hist(df[cols[col]])\n",
    "        h = axs[i,j].set_title(cols[col])\n",
    "        col += 1"
   ]
  },
  {
   "cell_type": "markdown",
   "metadata": {},
   "source": [
    "It looks like there are two types of sulfur dioxide features: total sulfur dioxide and free sulfur dioxide. I'm not entirely sure what sulfur dioxide is (I am neither a chemist nor a sommelier) so I'm curious if there is a correlation between these features. "
   ]
  },
  {
   "cell_type": "code",
   "execution_count": 7,
   "metadata": {},
   "outputs": [
    {
     "data": {
      "text/plain": [
       "<matplotlib.collections.PathCollection at 0x253b9ab3430>"
      ]
     },
     "execution_count": 7,
     "metadata": {},
     "output_type": "execute_result"
    },
    {
     "data": {
      "image/png": "[encoded data removed]",
      "text/plain": [
       "<Figure size 432x288 with 1 Axes>"
      ]
     },
     "metadata": {
      "needs_background": "light"
     },
     "output_type": "display_data"
    }
   ],
   "source": [
    "plt.scatter(df['features/free sulfur dioxide'],df['features/total sulfur dioxide'])"
   ]
  },
  {
   "cell_type": "markdown",
   "metadata": {},
   "source": [
    "It looks like there is some correlation between these features. If I had to guess, I would say \"free sulfur dioxide\" is a subset of \"total sulfur dioxide\" but I'm not sure how or even if either of these features would affect the wine quality. This is where domain specific knowledge would be helpful! Since I have a degree in physics and not wine studies (contrary to what my weekend activities may imply) I am going to see what happens when we include both of these features in our network."
   ]
  },
  {
   "cell_type": "markdown",
   "metadata": {},
   "source": [
    "This was just a cursory look at our data. In reality, data scientists will spend most of their time feature engineering, fixing incomplete datasets, cleaning data, etc. Feel free to do more exploratory analysis on the data before you pass it through to a network!"
   ]
  },
  {
   "cell_type": "markdown",
   "metadata": {},
   "source": [
    "## Let's build our network!\n",
    "We want to build a simple DNN to essentially perform a categorization. Let's start with something simple: only a couple hidden layers and a handful of neurons. Of course, in accordance with the Universal Approximation Theorem, any function can be approximated arbitrarily well with an arbitrarily large number of layers (Lu et. al. 2017) or arbitrarily large number of neurons (Cybenko 1989). Does the network perform better or worse with an increase in layers or neurons?"
   ]
  },
  {
   "cell_type": "code",
   "execution_count": 8,
   "metadata": {},
   "outputs": [
    {
     "name": "stdout",
     "output_type": "stream",
     "text": [
      "WARNING:tensorflow:Please add `keras.layers.InputLayer` instead of `keras.Input` to Sequential model. `keras.Input` is intended to be used by Functional model.\n"
     ]
    },
    {
     "name": "stderr",
     "output_type": "stream",
     "text": [
      "WARNING:tensorflow:Please add `keras.layers.InputLayer` instead of `keras.Input` to Sequential model. `keras.Input` is intended to be used by Functional model.\n"
     ]
    },
    {
     "name": "stdout",
     "output_type": "stream",
     "text": [
      "Model: \"sequential\"\n",
      "_________________________________________________________________\n",
      "Layer (type)                 Output Shape              Param #   \n",
      "=================================================================\n",
      "dense (Dense)                (None, 128)               1536      \n",
      "_________________________________________________________________\n",
      "dense_1 (Dense)              (None, 128)               16512     \n",
      "_________________________________________________________________\n",
      "dense_2 (Dense)              (None, 128)               16512     \n",
      "_________________________________________________________________\n",
      "dense_3 (Dense)              (None, 128)               16512     \n",
      "_________________________________________________________________\n",
      "dense_4 (Dense)              (None, 128)               16512     \n",
      "_________________________________________________________________\n",
      "dense_5 (Dense)              (None, 128)               16512     \n",
      "_________________________________________________________________\n",
      "dense_6 (Dense)              (None, 7)                 903       \n",
      "=================================================================\n",
      "Total params: 84,999\n",
      "Trainable params: 84,999\n",
      "Non-trainable params: 0\n",
      "_________________________________________________________________\n"
     ]
    }
   ],
   "source": [
    "cols = df.columns\n",
    "nClasses = len(labels[0])\n",
    "\n",
    "#using Keras's Sequential model - https://keras.io/api/models/sequential/\n",
    "model = Sequential()\n",
    "#add input layer\n",
    "model.add(Input(shape=(len(cols),))) #the input layer shape should match the number of features we have\n",
    "#notebook initially used 3 layers with 64 units, let's try scaling those up together\n",
    "nlayers = 6\n",
    "nunits = 128\n",
    "for x in range(0,nlayers):\n",
    "    model.add(Dense(nunits,activation='relu'))\n",
    "#finally, our output layer should have only one neuron because we are trying to predict only one number\n",
    "#notice how there is a different activation function in this layer\n",
    "#this is because we want our outputs for each class to be a probability\n",
    "model.add(Dense(nClasses,activation='softmax'))\n",
    "\n",
    "#compile our model - set our loss metric (categorical cross entropy) and optimizer (stochastic gradient descent)\n",
    "#how does the model performance change with different optimizers (ie AdaGrad, SGD, etc.)?\n",
    "model.compile(loss='CategoricalCrossentropy',optimizer='Adam',metrics=['accuracy'])\n",
    "\n",
    "#let's see a summary of our model\n",
    "model.summary()"
   ]
  },
  {
   "cell_type": "markdown",
   "metadata": {},
   "source": [
    "As shown above, we have a network with four layers, 128 neurons/layer, for a total of ~50k trainable parameters (remember: parameters are the biases and weights that the network learns). Imagine how many parameters a large, complex network at Google has!"
   ]
  },
  {
   "cell_type": "markdown",
   "metadata": {},
   "source": [
    "### the same model can be built using the generic Model class and slightly different syntax\n",
    "`\n",
    "inputs = tf.keras.Input(shape=(len(cols),))\n",
    "outputs_L1 = Dense(64, activation='relu')(inputs)\n",
    "outputs_L2 = Dense(64, activation='relu')(outputs_L1)\n",
    "outputs_L3 = Dense(64, activation='relu')(outputs_L2)\n",
    "pred = Dense(1)(outputs_L3)\n",
    "model = Model(inputs=inputs,outputs=pred)\n",
    "`"
   ]
  },
  {
   "cell_type": "markdown",
   "metadata": {},
   "source": [
    "### Training our model\n",
    "\n",
    "Let's give our model all the input features (df), the corresponding labels (labels)\n",
    "\n",
    "There is a 20% validation split, which means that 80% of our data will be used to train the model parameters\n",
    "while 20% of it will be saved to \"check\" our answers. This is data that the model has not seen (been trained on) so the performance on the validation data should give us an idea of if the model is over- or underfitting.\n",
    "\n",
    "We will train for 100 epochs, which means that the entire dataset will be passed through the whole network 100 times. Our batch size is 20, meaning that 20 samples at a time are passed to the network before the parameters are updated. The `shuffle` argument ensures that our data is shuffled before the beginning of each epoch to reduce spurious learned correlations. What happens if you let the model run for more epochs?\n"
   ]
  },
  {
   "cell_type": "code",
   "execution_count": 9,
   "metadata": {},
   "outputs": [
    {
     "name": "stdout",
     "output_type": "stream",
     "text": [
      "Epoch 1/100\n",
      "41/41 [==============================] - 1s 4ms/step - loss: 1.7093 - accuracy: 0.3894 - val_loss: 1.2857 - val_accuracy: 0.4085\n",
      "Epoch 2/100\n",
      "41/41 [==============================] - 0s 1ms/step - loss: 1.2632 - accuracy: 0.4552 - val_loss: 1.2541 - val_accuracy: 0.4410\n",
      "Epoch 3/100\n",
      "41/41 [==============================] - 0s 1ms/step - loss: 1.2679 - accuracy: 0.4470 - val_loss: 1.2588 - val_accuracy: 0.4456\n",
      "Epoch 4/100\n",
      "41/41 [==============================] - 0s 1ms/step - loss: 1.2373 - accuracy: 0.4492 - val_loss: 1.2351 - val_accuracy: 0.4348\n",
      "Epoch 5/100\n",
      "41/41 [==============================] - 0s 1ms/step - loss: 1.2196 - accuracy: 0.4532 - val_loss: 1.2406 - val_accuracy: 0.4462\n",
      "Epoch 6/100\n",
      "41/41 [==============================] - 0s 1ms/step - loss: 1.2257 - accuracy: 0.4700 - val_loss: 1.3051 - val_accuracy: 0.4382\n",
      "Epoch 7/100\n",
      "41/41 [==============================] - 0s 1ms/step - loss: 1.2659 - accuracy: 0.4256 - val_loss: 1.2135 - val_accuracy: 0.4541\n",
      "Epoch 8/100\n",
      "41/41 [==============================] - 0s 1ms/step - loss: 1.2162 - accuracy: 0.4728 - val_loss: 1.2109 - val_accuracy: 0.4496\n",
      "Epoch 9/100\n",
      "41/41 [==============================] - 0s 1ms/step - loss: 1.2203 - accuracy: 0.4476 - val_loss: 1.1770 - val_accuracy: 0.4729\n",
      "Epoch 10/100\n",
      "41/41 [==============================] - 0s 1ms/step - loss: 1.1748 - accuracy: 0.4824 - val_loss: 1.1765 - val_accuracy: 0.4598\n",
      "Epoch 11/100\n",
      "41/41 [==============================] - 0s 1ms/step - loss: 1.2121 - accuracy: 0.4677 - val_loss: 1.1578 - val_accuracy: 0.4826\n",
      "Epoch 12/100\n",
      "41/41 [==============================] - 0s 1ms/step - loss: 1.1284 - accuracy: 0.5047 - val_loss: 1.1772 - val_accuracy: 0.4507\n",
      "Epoch 13/100\n",
      "41/41 [==============================] - 0s 1ms/step - loss: 1.1523 - accuracy: 0.4985 - val_loss: 1.1423 - val_accuracy: 0.4923\n",
      "Epoch 14/100\n",
      "41/41 [==============================] - 0s 1ms/step - loss: 1.1206 - accuracy: 0.5022 - val_loss: 1.1893 - val_accuracy: 0.4462\n",
      "Epoch 15/100\n",
      "41/41 [==============================] - 0s 1ms/step - loss: 1.1698 - accuracy: 0.4703 - val_loss: 1.1456 - val_accuracy: 0.4644\n",
      "Epoch 16/100\n",
      "41/41 [==============================] - 0s 1ms/step - loss: 1.1432 - accuracy: 0.4922 - val_loss: 1.1555 - val_accuracy: 0.4980\n",
      "Epoch 17/100\n",
      "41/41 [==============================] - 0s 1ms/step - loss: 1.1219 - accuracy: 0.5015 - val_loss: 1.1234 - val_accuracy: 0.4952\n",
      "Epoch 18/100\n",
      "41/41 [==============================] - 0s 1ms/step - loss: 1.0954 - accuracy: 0.5177 - val_loss: 1.1285 - val_accuracy: 0.4912\n",
      "Epoch 19/100\n",
      "41/41 [==============================] - 0s 1ms/step - loss: 1.1132 - accuracy: 0.5179 - val_loss: 1.1406 - val_accuracy: 0.4815\n",
      "Epoch 20/100\n",
      "41/41 [==============================] - 0s 1ms/step - loss: 1.1105 - accuracy: 0.4848 - val_loss: 1.1122 - val_accuracy: 0.4963\n",
      "Epoch 21/100\n",
      "41/41 [==============================] - 0s 2ms/step - loss: 1.0845 - accuracy: 0.5145 - val_loss: 1.1104 - val_accuracy: 0.4969\n",
      "Epoch 22/100\n",
      "41/41 [==============================] - 0s 1ms/step - loss: 1.0946 - accuracy: 0.5173 - val_loss: 1.1654 - val_accuracy: 0.4632\n",
      "Epoch 23/100\n",
      "41/41 [==============================] - 0s 1ms/step - loss: 1.1254 - accuracy: 0.4957 - val_loss: 1.1242 - val_accuracy: 0.4900\n",
      "Epoch 24/100\n",
      "41/41 [==============================] - 0s 1ms/step - loss: 1.1092 - accuracy: 0.5147 - val_loss: 1.1473 - val_accuracy: 0.4769\n",
      "Epoch 25/100\n",
      "41/41 [==============================] - 0s 1ms/step - loss: 1.1050 - accuracy: 0.5180 - val_loss: 1.1415 - val_accuracy: 0.4895\n",
      "Epoch 26/100\n",
      "41/41 [==============================] - 0s 1ms/step - loss: 1.0741 - accuracy: 0.5303 - val_loss: 1.0963 - val_accuracy: 0.5185\n",
      "Epoch 27/100\n",
      "41/41 [==============================] - 0s 1ms/step - loss: 1.0746 - accuracy: 0.5327 - val_loss: 1.1110 - val_accuracy: 0.5060\n",
      "Epoch 28/100\n",
      "41/41 [==============================] - 0s 1ms/step - loss: 1.0841 - accuracy: 0.5236 - val_loss: 1.1165 - val_accuracy: 0.4980\n",
      "Epoch 29/100\n",
      "41/41 [==============================] - 0s 1ms/step - loss: 1.0651 - accuracy: 0.5401 - val_loss: 1.1009 - val_accuracy: 0.5094\n",
      "Epoch 30/100\n",
      "41/41 [==============================] - 0s 1ms/step - loss: 1.0673 - accuracy: 0.5238 - val_loss: 1.1170 - val_accuracy: 0.5043\n",
      "Epoch 31/100\n",
      "41/41 [==============================] - 0s 2ms/step - loss: 1.0721 - accuracy: 0.5135 - val_loss: 1.0977 - val_accuracy: 0.5043\n",
      "Epoch 32/100\n",
      "41/41 [==============================] - 0s 2ms/step - loss: 1.0649 - accuracy: 0.5341 - val_loss: 1.1002 - val_accuracy: 0.5123\n",
      "Epoch 33/100\n",
      "41/41 [==============================] - 0s 2ms/step - loss: 1.0529 - accuracy: 0.5296 - val_loss: 1.0977 - val_accuracy: 0.5111\n",
      "Epoch 34/100\n",
      "41/41 [==============================] - 0s 2ms/step - loss: 1.0624 - accuracy: 0.5324 - val_loss: 1.1107 - val_accuracy: 0.5043\n",
      "Epoch 35/100\n",
      "41/41 [==============================] - 0s 1ms/step - loss: 1.0416 - accuracy: 0.5336 - val_loss: 1.1288 - val_accuracy: 0.4877\n",
      "Epoch 36/100\n",
      "41/41 [==============================] - 0s 1ms/step - loss: 1.0424 - accuracy: 0.5472 - val_loss: 1.0808 - val_accuracy: 0.5105\n",
      "Epoch 37/100\n",
      "41/41 [==============================] - 0s 1ms/step - loss: 1.0590 - accuracy: 0.5407 - val_loss: 1.1215 - val_accuracy: 0.5054\n",
      "Epoch 38/100\n",
      "41/41 [==============================] - 0s 1ms/step - loss: 1.0362 - accuracy: 0.5425 - val_loss: 1.1042 - val_accuracy: 0.5054\n",
      "Epoch 39/100\n",
      "41/41 [==============================] - 0s 1ms/step - loss: 1.0257 - accuracy: 0.5435 - val_loss: 1.1000 - val_accuracy: 0.5128\n",
      "Epoch 40/100\n",
      "41/41 [==============================] - 0s 1ms/step - loss: 1.0400 - accuracy: 0.5426 - val_loss: 1.0973 - val_accuracy: 0.5197\n",
      "Epoch 41/100\n",
      "41/41 [==============================] - 0s 1ms/step - loss: 1.0457 - accuracy: 0.5409 - val_loss: 1.1119 - val_accuracy: 0.5214\n",
      "Epoch 42/100\n",
      "41/41 [==============================] - 0s 1ms/step - loss: 1.0118 - accuracy: 0.5453 - val_loss: 1.1023 - val_accuracy: 0.5225\n",
      "Epoch 43/100\n",
      "41/41 [==============================] - 0s 1ms/step - loss: 1.0464 - accuracy: 0.5378 - val_loss: 1.1010 - val_accuracy: 0.5111\n",
      "Epoch 44/100\n",
      "41/41 [==============================] - 0s 1ms/step - loss: 1.0156 - accuracy: 0.5655 - val_loss: 1.0901 - val_accuracy: 0.5140\n",
      "Epoch 45/100\n",
      "41/41 [==============================] - 0s 1ms/step - loss: 1.0096 - accuracy: 0.5519 - val_loss: 1.0968 - val_accuracy: 0.5123\n",
      "Epoch 46/100\n",
      "41/41 [==============================] - 0s 1ms/step - loss: 1.0294 - accuracy: 0.5379 - val_loss: 1.1295 - val_accuracy: 0.5014\n",
      "Epoch 47/100\n",
      "41/41 [==============================] - 0s 1ms/step - loss: 1.0162 - accuracy: 0.5543 - val_loss: 1.0990 - val_accuracy: 0.5231\n",
      "Epoch 48/100\n",
      "41/41 [==============================] - 0s 1ms/step - loss: 1.0289 - accuracy: 0.5427 - val_loss: 1.0962 - val_accuracy: 0.5282\n",
      "Epoch 49/100\n",
      "41/41 [==============================] - 0s 1ms/step - loss: 1.0623 - accuracy: 0.5292 - val_loss: 1.1284 - val_accuracy: 0.4997\n",
      "Epoch 50/100\n",
      "41/41 [==============================] - 0s 1ms/step - loss: 1.0106 - accuracy: 0.5549 - val_loss: 1.1081 - val_accuracy: 0.5048\n",
      "Epoch 51/100\n",
      "41/41 [==============================] - 0s 1ms/step - loss: 1.0313 - accuracy: 0.5358 - val_loss: 1.1085 - val_accuracy: 0.5265\n",
      "Epoch 52/100\n",
      "41/41 [==============================] - 0s 1ms/step - loss: 0.9985 - accuracy: 0.5391 - val_loss: 1.1140 - val_accuracy: 0.4974\n",
      "Epoch 53/100\n",
      "41/41 [==============================] - 0s 1ms/step - loss: 0.9959 - accuracy: 0.5535 - val_loss: 1.0803 - val_accuracy: 0.5350\n",
      "Epoch 54/100\n",
      "41/41 [==============================] - 0s 1ms/step - loss: 0.9955 - accuracy: 0.5495 - val_loss: 1.1094 - val_accuracy: 0.5111\n",
      "Epoch 55/100\n",
      "41/41 [==============================] - 0s 2ms/step - loss: 1.0493 - accuracy: 0.5373 - val_loss: 1.0964 - val_accuracy: 0.5271\n",
      "Epoch 56/100\n",
      "41/41 [==============================] - 0s 1ms/step - loss: 1.0144 - accuracy: 0.5533 - val_loss: 1.0951 - val_accuracy: 0.5362\n",
      "Epoch 57/100\n",
      "41/41 [==============================] - 0s 1ms/step - loss: 0.9862 - accuracy: 0.5642 - val_loss: 1.0976 - val_accuracy: 0.5339\n",
      "Epoch 58/100\n",
      "41/41 [==============================] - 0s 2ms/step - loss: 1.0142 - accuracy: 0.5426 - val_loss: 1.1228 - val_accuracy: 0.5151\n",
      "Epoch 59/100\n",
      "41/41 [==============================] - 0s 1ms/step - loss: 1.0090 - accuracy: 0.5550 - val_loss: 1.1036 - val_accuracy: 0.5162\n",
      "Epoch 60/100\n",
      "41/41 [==============================] - 0s 1ms/step - loss: 1.0062 - accuracy: 0.5583 - val_loss: 1.1167 - val_accuracy: 0.5236\n",
      "Epoch 61/100\n",
      "41/41 [==============================] - 0s 1ms/step - loss: 0.9934 - accuracy: 0.5644 - val_loss: 1.1332 - val_accuracy: 0.5168\n",
      "Epoch 62/100\n",
      "41/41 [==============================] - 0s 1ms/step - loss: 0.9883 - accuracy: 0.5554 - val_loss: 1.1041 - val_accuracy: 0.5208\n",
      "Epoch 63/100\n",
      "41/41 [==============================] - 0s 1ms/step - loss: 1.0069 - accuracy: 0.5640 - val_loss: 1.0981 - val_accuracy: 0.5288\n",
      "Epoch 64/100\n",
      "41/41 [==============================] - 0s 1ms/step - loss: 0.9805 - accuracy: 0.5758 - val_loss: 1.1101 - val_accuracy: 0.5322\n",
      "Epoch 65/100\n",
      "41/41 [==============================] - 0s 1ms/step - loss: 0.9825 - accuracy: 0.5651 - val_loss: 1.1234 - val_accuracy: 0.5048\n",
      "Epoch 66/100\n",
      "41/41 [==============================] - 0s 1ms/step - loss: 0.9713 - accuracy: 0.5594 - val_loss: 1.1583 - val_accuracy: 0.5043\n",
      "Epoch 67/100\n",
      "41/41 [==============================] - 0s 1ms/step - loss: 0.9821 - accuracy: 0.5622 - val_loss: 1.1200 - val_accuracy: 0.5259\n",
      "Epoch 68/100\n",
      "41/41 [==============================] - 0s 1ms/step - loss: 0.9547 - accuracy: 0.5599 - val_loss: 1.1334 - val_accuracy: 0.5339\n",
      "Epoch 69/100\n",
      "41/41 [==============================] - 0s 1ms/step - loss: 0.9721 - accuracy: 0.5602 - val_loss: 1.1248 - val_accuracy: 0.5162\n",
      "Epoch 70/100\n",
      "41/41 [==============================] - 0s 1ms/step - loss: 0.9641 - accuracy: 0.5621 - val_loss: 1.1250 - val_accuracy: 0.5339\n",
      "Epoch 71/100\n",
      "41/41 [==============================] - 0s 1ms/step - loss: 0.9522 - accuracy: 0.5586 - val_loss: 1.1130 - val_accuracy: 0.5311\n",
      "Epoch 72/100\n",
      "41/41 [==============================] - 0s 1ms/step - loss: 0.9779 - accuracy: 0.5586 - val_loss: 1.1308 - val_accuracy: 0.5242\n",
      "Epoch 73/100\n",
      "41/41 [==============================] - 0s 1ms/step - loss: 0.9533 - accuracy: 0.5699 - val_loss: 1.1409 - val_accuracy: 0.5339\n",
      "Epoch 74/100\n",
      "41/41 [==============================] - 0s 1ms/step - loss: 0.9529 - accuracy: 0.5720 - val_loss: 1.1395 - val_accuracy: 0.5305\n",
      "Epoch 75/100\n",
      "41/41 [==============================] - 0s 2ms/step - loss: 0.9696 - accuracy: 0.5734 - val_loss: 1.1278 - val_accuracy: 0.5140\n",
      "Epoch 76/100\n",
      "41/41 [==============================] - 0s 1ms/step - loss: 0.9456 - accuracy: 0.5866 - val_loss: 1.1311 - val_accuracy: 0.5111\n",
      "Epoch 77/100\n",
      "41/41 [==============================] - 0s 1ms/step - loss: 0.9558 - accuracy: 0.5690 - val_loss: 1.1124 - val_accuracy: 0.5356\n",
      "Epoch 78/100\n",
      "41/41 [==============================] - 0s 1ms/step - loss: 0.9117 - accuracy: 0.5951 - val_loss: 1.1165 - val_accuracy: 0.5282\n",
      "Epoch 79/100\n",
      "41/41 [==============================] - 0s 1ms/step - loss: 0.9233 - accuracy: 0.5789 - val_loss: 1.1356 - val_accuracy: 0.5265\n",
      "Epoch 80/100\n",
      "41/41 [==============================] - 0s 1ms/step - loss: 0.9469 - accuracy: 0.5828 - val_loss: 1.1372 - val_accuracy: 0.5271\n",
      "Epoch 81/100\n",
      "41/41 [==============================] - 0s 1ms/step - loss: 0.9450 - accuracy: 0.5850 - val_loss: 1.1176 - val_accuracy: 0.5293\n",
      "Epoch 82/100\n",
      "41/41 [==============================] - 0s 1ms/step - loss: 0.9060 - accuracy: 0.5903 - val_loss: 1.1241 - val_accuracy: 0.5413\n",
      "Epoch 83/100\n",
      "41/41 [==============================] - 0s 1ms/step - loss: 0.9329 - accuracy: 0.5853 - val_loss: 1.1460 - val_accuracy: 0.5254\n",
      "Epoch 84/100\n",
      "41/41 [==============================] - 0s 1ms/step - loss: 0.9522 - accuracy: 0.5774 - val_loss: 1.1351 - val_accuracy: 0.5350\n",
      "Epoch 85/100\n",
      "41/41 [==============================] - 0s 1ms/step - loss: 0.9444 - accuracy: 0.5648 - val_loss: 1.1244 - val_accuracy: 0.5350\n",
      "Epoch 86/100\n",
      "41/41 [==============================] - 0s 1ms/step - loss: 0.9316 - accuracy: 0.5881 - val_loss: 1.1319 - val_accuracy: 0.5311\n",
      "Epoch 87/100\n",
      "41/41 [==============================] - 0s 1ms/step - loss: 0.9380 - accuracy: 0.5658 - val_loss: 1.1405 - val_accuracy: 0.5202\n",
      "Epoch 88/100\n",
      "41/41 [==============================] - 0s 1ms/step - loss: 0.9203 - accuracy: 0.5718 - val_loss: 1.1611 - val_accuracy: 0.5202\n",
      "Epoch 89/100\n",
      "41/41 [==============================] - 0s 1ms/step - loss: 0.9280 - accuracy: 0.5789 - val_loss: 1.1749 - val_accuracy: 0.5191\n",
      "Epoch 90/100\n",
      "41/41 [==============================] - 0s 1ms/step - loss: 0.8850 - accuracy: 0.6007 - val_loss: 1.1588 - val_accuracy: 0.5362\n",
      "Epoch 91/100\n",
      "41/41 [==============================] - 0s 1ms/step - loss: 0.9438 - accuracy: 0.5734 - val_loss: 1.2038 - val_accuracy: 0.5077\n",
      "Epoch 92/100\n",
      "41/41 [==============================] - 0s 1ms/step - loss: 0.9348 - accuracy: 0.5791 - val_loss: 1.1673 - val_accuracy: 0.5373\n",
      "Epoch 93/100\n",
      "41/41 [==============================] - 0s 1ms/step - loss: 0.9446 - accuracy: 0.5676 - val_loss: 1.1204 - val_accuracy: 0.5407\n",
      "Epoch 94/100\n",
      "41/41 [==============================] - 0s 1ms/step - loss: 0.8704 - accuracy: 0.6129 - val_loss: 1.1403 - val_accuracy: 0.5419\n",
      "Epoch 95/100\n",
      "41/41 [==============================] - 0s 1ms/step - loss: 0.8872 - accuracy: 0.6076 - val_loss: 1.1630 - val_accuracy: 0.5379\n",
      "Epoch 96/100\n",
      "41/41 [==============================] - 0s 1ms/step - loss: 0.8871 - accuracy: 0.6086 - val_loss: 1.1722 - val_accuracy: 0.5208\n",
      "Epoch 97/100\n",
      "41/41 [==============================] - 0s 1ms/step - loss: 0.9001 - accuracy: 0.5914 - val_loss: 1.1688 - val_accuracy: 0.5447\n",
      "Epoch 98/100\n",
      "41/41 [==============================] - 0s 1ms/step - loss: 0.8937 - accuracy: 0.5938 - val_loss: 1.1824 - val_accuracy: 0.5276\n",
      "Epoch 99/100\n",
      "41/41 [==============================] - 0s 1ms/step - loss: 0.8771 - accuracy: 0.5914 - val_loss: 1.1608 - val_accuracy: 0.5276\n",
      "Epoch 100/100\n",
      "41/41 [==============================] - 0s 1ms/step - loss: 0.9037 - accuracy: 0.5890 - val_loss: 1.1597 - val_accuracy: 0.5396\n"
     ]
    }
   ],
   "source": [
    "history = model.fit(\n",
    "    df, labels,\n",
    "    validation_split=0.3,\n",
    "    verbose=1, epochs=100, batch_size=100, shuffle=True)"
   ]
  },
  {
   "cell_type": "markdown",
   "metadata": {},
   "source": [
    "Let's define a function to visualize our loss"
   ]
  },
  {
   "cell_type": "code",
   "execution_count": 10,
   "metadata": {},
   "outputs": [
    {
     "data": {
      "image/png": "[encoded data removed]",
      "text/plain": [
       "<Figure size 432x288 with 1 Axes>"
      ]
     },
     "metadata": {
      "needs_background": "light"
     },
     "output_type": "display_data"
    }
   ],
   "source": [
    "def show_loss(history):\n",
    "    plt.figure()\n",
    "    plt.plot(history.history['val_loss'], label=\"val loss\")\n",
    "    plt.plot(history.history['loss'],label=\"train loss\")\n",
    "    plt.xlabel(\"Epoch\")\n",
    "    plt.ylabel(\"Loss\")\n",
    "    plt.legend()\n",
    "show_loss(history)"
   ]
  },
  {
   "cell_type": "markdown",
   "metadata": {},
   "source": [
    "It looks like our training loss is more or less monotonically minimized with each epoch (with some fluctuations) while the validation loss seems to be on average higher. The validation loss spikes more severely than the training loss, which is probably due to limited statistics (we only had ~6k samples and took onlt 20% of them for validation - it usually takes LOTS of data to train neural networks well!). The trend discrepancy between training and validation losses could indicate some overfitting in our model. What happens if you increase the percentage of data used for validation? Since it's pretty apparent we're overfitting to our training data, we could introduce some sort of regularization techniques, like L2 regularization (that penalizes large weights) or dropout (that randomly drops neurons in a layer with a set probability). What happens if you introduce some of these methods?"
   ]
  },
  {
   "cell_type": "markdown",
   "metadata": {},
   "source": [
    "### Remember that test data we set aside at the beginning?\n",
    "Now it's time to use it to evaluate our model performance!"
   ]
  },
  {
   "cell_type": "code",
   "execution_count": 11,
   "metadata": {
    "scrolled": true
   },
   "outputs": [
    {
     "name": "stdout",
     "output_type": "stream",
     "text": [
      "21/21 [==============================] - 0s 349us/step - loss: 1.1858 - accuracy: 0.5400\n",
      "Accuracy for test data is 0.5400000214576721\n"
     ]
    }
   ],
   "source": [
    "_, acc = model.evaluate(df_test, df_testLabels, verbose=1)\n",
    "print('Accuracy for test data is',acc)"
   ]
  },
  {
   "cell_type": "markdown",
   "metadata": {},
   "source": [
    "To plot our results, I just chose the highest probability of the classes and assigned the prediction to a class based on that rounding (highest probability gets a 1, every other class gets a 0). Then, I one-hot decoded the rounded array to get a single number for the class. "
   ]
  },
  {
   "cell_type": "code",
   "execution_count": 12,
   "metadata": {},
   "outputs": [
    {
     "data": {
      "image/png": "[encoded data removed]",
      "text/plain": [
       "<Figure size 432x288 with 2 Axes>"
      ]
     },
     "metadata": {
      "needs_background": "light"
     },
     "output_type": "display_data"
    }
   ],
   "source": [
    "preds = model.predict(df_test)\n",
    "# preds = [i.round() for i in preds]\n",
    "preds = tf.one_hot(tf.math.argmax(preds, axis = 1),depth = len(preds[0]))\n",
    "\n",
    "preds = enc.inverse_transform(preds)\n",
    "testLabels = enc.inverse_transform(df_testLabels)\n",
    "cm = confusion_matrix(testLabels, preds)\n",
    "\n",
    "_ =plt.imshow(cm, cmap=plt.cm.Blues)\n",
    "_ = plt.xlabel(\"Predicted labels\")\n",
    "_ = plt.ylabel(\"True labels\")\n",
    "\n",
    "_ =plt.xticks(np.arange(0,len(np.unique(testLabels)),1),np.unique(testLabels))\n",
    "_ =plt.yticks(np.arange(0,len(np.unique(testLabels)),1),np.unique(testLabels))\n",
    "_ =plt.title('Confusion matrix ')\n",
    "_ =plt.colorbar()\n",
    "plt.show()"
   ]
  },
  {
   "cell_type": "markdown",
   "metadata": {},
   "source": [
    "It looks like our network is only predicting *some* of our classes. Maybe that's because really good wine (rated 8 and 9) is pretty rare? Let's check it out."
   ]
  },
  {
   "cell_type": "code",
   "execution_count": 13,
   "metadata": {},
   "outputs": [
    {
     "data": {
      "image/png": "[encoded data removed]",
      "text/plain": [
       "<Figure size 432x288 with 1 Axes>"
      ]
     },
     "metadata": {
      "needs_background": "light"
     },
     "output_type": "display_data"
    }
   ],
   "source": [
    "_=plt.hist(enc.inverse_transform(labels),label='training labels')\n",
    "_=plt.hist(testLabels,label='test labels')\n",
    "_=plt.yscale('log')\n",
    "_=plt.legend()"
   ]
  },
  {
   "cell_type": "markdown",
   "metadata": {},
   "source": [
    "Yep! Mostly 5s, 6s, and 7s. Only a handful of really good wines (8s and 9s) and really bad wines (3s and 4s). In fact, no scores below a 3! But no perfect 10s either. Overall, I would say that the dataset is imbalanced (mostly ok wines, some bad and some good - a pretty Gaussian distribution) and could benefit from data augmentation techniques like bootstrapping! Maybe you could even generate some more data from randomly sampling a known distribution...But if you train your model on mostly ok wines, then it learns the characteristics of those wines really well. So, when it's faced with a good or bad wine, it's not as sure how to classify it. You can see if this is happening by looking at the network output, which are the probabilities for each class (ie how sure the network is this sample belongs to a certain class)."
   ]
  },
  {
   "cell_type": "markdown",
   "metadata": {},
   "source": [
    "### Overall, \n",
    "our network performs ok with a training, validation, and test accuracy all around 50-60%. What could you change about the network or inputs? How do you think that would affect the model's predictions?"
   ]
  },
  {
   "cell_type": "code",
   "execution_count": null,
   "metadata": {},
   "outputs": [],
   "source": []
  }
 ],
 "metadata": {
  "kernelspec": {
   "display_name": "Python 3",
   "language": "python",
   "name": "python3"
  },
  "language_info": {
   "codemirror_mode": {
    "name": "ipython",
    "version": 3
   },
   "file_extension": ".py",
   "mimetype": "text/x-python",
   "name": "python",
   "nbconvert_exporter": "python",
   "pygments_lexer": "ipython3",
   "version": "3.9.4"
  },
  "metadata": {
   "interpreter": {
    "hash": "ac59ebe37160ed0dfa835113d9b8498d9f09ceb179beaac4002f036b9467c963"
   }
  }
 },
 "nbformat": 4,
 "nbformat_minor": 4
}
